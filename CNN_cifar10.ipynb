{
 "cells": [
  {
   "cell_type": "code",
   "execution_count": null,
   "metadata": {
    "colab": {},
    "colab_type": "code",
    "id": "GKHr-cItp6Dx"
   },
   "outputs": [],
   "source": []
  },
  {
   "cell_type": "code",
   "execution_count": 1,
   "metadata": {
    "colab": {
     "base_uri": "https://localhost:8080/",
     "height": 35
    },
    "colab_type": "code",
    "id": "KW9OwjcSvuEK",
    "outputId": "6afe596d-af9c-4485-e168-76b3e3fe8e98"
   },
   "outputs": [
    {
     "name": "stderr",
     "output_type": "stream",
     "text": [
      "Using TensorFlow backend.\n"
     ]
    }
   ],
   "source": [
    "import time\n",
    "import matplotlib.pyplot as plt\n",
    "import numpy as np\n",
    "from sklearn.model_selection import train_test_split\n",
    "from keras.models import Sequential\n",
    "from keras.layers import Dense\n",
    "from keras.layers import Dropout\n",
    "from keras.layers import Flatten\n",
    "from keras.layers import Activation\n",
    "from keras.layers.convolutional import Conv2D\n",
    "from keras.layers.convolutional import MaxPooling2D\n",
    "from keras.layers.normalization import BatchNormalization\n",
    "from keras.utils import np_utils\n",
    "from keras import backend as K\n",
    "import tensorflow as tf\n",
    "import multiprocessing as mp\n",
    "from keras import optimizers,regularizers \n",
    "from sklearn import metrics \n",
    "from keras.optimizers import Adam,SGD"
   ]
  },
  {
   "cell_type": "markdown",
   "metadata": {
    "colab_type": "text",
    "id": "oYINyr13GBaO"
   },
   "source": [
    "# **Loading the dataset**"
   ]
  },
  {
   "cell_type": "markdown",
   "metadata": {
    "colab_type": "text",
    "id": "Hq7T3ZgBGK6w"
   },
   "source": [
    "first we will download cifar10 dataset directly from keras. "
   ]
  },
  {
   "cell_type": "code",
   "execution_count": 2,
   "metadata": {
    "colab": {},
    "colab_type": "code",
    "id": "1O786lznp9o7"
   },
   "outputs": [],
   "source": [
    "from keras.datasets import cifar10"
   ]
  },
  {
   "cell_type": "code",
   "execution_count": 3,
   "metadata": {
    "colab": {
     "base_uri": "https://localhost:8080/",
     "height": 54
    },
    "colab_type": "code",
    "id": "ACabefULyFqq",
    "outputId": "70019ef1-0858-4f53-eaf5-7654696f9f9d"
   },
   "outputs": [],
   "source": [
    "(trainX, trainY), (testX, testY) = cifar10.load_data()"
   ]
  },
  {
   "cell_type": "markdown",
   "metadata": {
    "colab_type": "text",
    "id": "94pjNR6NGc1Y"
   },
   "source": [
    "**Examining the dataset**"
   ]
  },
  {
   "cell_type": "markdown",
   "metadata": {
    "colab_type": "text",
    "id": "gB1DicBDG5sD"
   },
   "source": [
    "first we check the shape of our dataset."
   ]
  },
  {
   "cell_type": "code",
   "execution_count": 4,
   "metadata": {
    "colab": {
     "base_uri": "https://localhost:8080/",
     "height": 35
    },
    "colab_type": "code",
    "id": "YTmZkW2EyS7m",
    "outputId": "92963db0-55fd-42ce-8d98-f3df1cae8c18"
   },
   "outputs": [
    {
     "data": {
      "text/plain": [
       "(50000, 32, 32, 3)"
      ]
     },
     "execution_count": 4,
     "metadata": {},
     "output_type": "execute_result"
    }
   ],
   "source": [
    "trainX.shape"
   ]
  },
  {
   "cell_type": "code",
   "execution_count": 5,
   "metadata": {
    "colab": {
     "base_uri": "https://localhost:8080/",
     "height": 35
    },
    "colab_type": "code",
    "id": "TnhKA7_frHZD",
    "outputId": "9f1ae6f3-2c4c-4789-f731-b74b4e8c1708"
   },
   "outputs": [
    {
     "data": {
      "text/plain": [
       "(50000, 1)"
      ]
     },
     "execution_count": 5,
     "metadata": {},
     "output_type": "execute_result"
    }
   ],
   "source": [
    "trainY.shape"
   ]
  },
  {
   "cell_type": "code",
   "execution_count": 6,
   "metadata": {
    "colab": {
     "base_uri": "https://localhost:8080/",
     "height": 35
    },
    "colab_type": "code",
    "id": "VpqGtkWy1tSP",
    "outputId": "ce6f5fe6-7c07-4fcf-c1eb-0c88734c549f"
   },
   "outputs": [
    {
     "data": {
      "text/plain": [
       "(10000, 32, 32, 3)"
      ]
     },
     "execution_count": 6,
     "metadata": {},
     "output_type": "execute_result"
    }
   ],
   "source": [
    "testX.shape"
   ]
  },
  {
   "cell_type": "markdown",
   "metadata": {
    "colab_type": "text",
    "id": "yf2O6HcqLdga"
   },
   "source": [
    "**We will use 20 % of train data as training data**"
   ]
  },
  {
   "cell_type": "markdown",
   "metadata": {
    "colab_type": "text",
    "id": "rzLM3a72MWe8"
   },
   "source": [
    "We have 50000 training and 10000 test data. this is image data set with a structure of (32,32,3) which correspond to (width, height, RGB).\n",
    "For each image there is a corresponding label, which is a class index. \n",
    "We will use 20 % train data out of 50000 that is 10000. \n"
   ]
  },
  {
   "cell_type": "code",
   "execution_count": 7,
   "metadata": {},
   "outputs": [
    {
     "data": {
      "text/plain": [
       "(10000, 32, 32, 3)"
      ]
     },
     "execution_count": 7,
     "metadata": {},
     "output_type": "execute_result"
    }
   ],
   "source": [
    "number_of_rows = int(trainX.shape[0] * 0.2)\n",
    "x_train = trainX[:number_of_rows]\n",
    "x_train.shape"
   ]
  },
  {
   "cell_type": "code",
   "execution_count": 8,
   "metadata": {},
   "outputs": [
    {
     "data": {
      "text/plain": [
       "(10000, 1)"
      ]
     },
     "execution_count": 8,
     "metadata": {},
     "output_type": "execute_result"
    }
   ],
   "source": [
    "y_train = trainY[:number_of_rows]\n",
    "y_train.shape"
   ]
  },
  {
   "cell_type": "markdown",
   "metadata": {},
   "source": [
    "#### Test validation split 50-50 %"
   ]
  },
  {
   "cell_type": "code",
   "execution_count": 9,
   "metadata": {},
   "outputs": [
    {
     "name": "stdout",
     "output_type": "stream",
     "text": [
      "(5000, 32, 32, 3) (5000, 32, 32, 3) (5000, 1) (5000, 1)\n"
     ]
    }
   ],
   "source": [
    "x_test, x_val, y_test, y_val = train_test_split(testX, testY, test_size = 0.5, shuffle= True)\n",
    "print(x_test.shape, x_val.shape, y_test.shape, y_val.shape)"
   ]
  },
  {
   "cell_type": "markdown",
   "metadata": {},
   "source": [
    "#### Normalization"
   ]
  },
  {
   "cell_type": "markdown",
   "metadata": {},
   "source": [
    "Using to_categorical we convert the target vectors into binary class vectors. Since it is a image dataset so the dimensions will be between 0 to 1. MLP takes on 2 D (3072) dimensional vector as the input.\n",
    "\n",
    "First we are going to use a Multilayer Perceptron to classify our images dataset."
   ]
  },
  {
   "cell_type": "code",
   "execution_count": 10,
   "metadata": {},
   "outputs": [],
   "source": [
    "x_train_norm = x_train.astype('float32')\n",
    "x_test_norm = x_test.astype('float32')\n",
    "x_val_norm =x_val.astype('float32')\n",
    "\n",
    "# Normalise data\n",
    "x_train_norm /= 255.0\n",
    "x_test_norm /= 255.0\n",
    "x_val_norm/=255.0"
   ]
  },
  {
   "cell_type": "code",
   "execution_count": 11,
   "metadata": {},
   "outputs": [],
   "source": [
    "from keras.utils import to_categorical"
   ]
  },
  {
   "cell_type": "code",
   "execution_count": 12,
   "metadata": {},
   "outputs": [],
   "source": [
    "x_train_mlp =np.reshape(x_train_norm, (10000, 3072))\n",
    "y_train_mlp = to_categorical(y_train, num_classes = 10) "
   ]
  },
  {
   "cell_type": "code",
   "execution_count": 13,
   "metadata": {},
   "outputs": [],
   "source": [
    "x_val_mlp = np.reshape(x_val_norm, (5000, 3072))\n",
    "y_val_mlp = to_categorical(y_val, num_classes = 10)"
   ]
  },
  {
   "cell_type": "code",
   "execution_count": 14,
   "metadata": {},
   "outputs": [],
   "source": [
    "x_test_mlp = np.reshape(x_test_norm, (5000, 3072))\n",
    "y_test_mlp = to_categorical(y_test, num_classes = 10)"
   ]
  },
  {
   "cell_type": "code",
   "execution_count": 44,
   "metadata": {},
   "outputs": [
    {
     "name": "stdout",
     "output_type": "stream",
     "text": [
      "Model: \"sequential_8\"\n",
      "_________________________________________________________________\n",
      "Layer (type)                 Output Shape              Param #   \n",
      "=================================================================\n",
      "dense_20 (Dense)             (None, 512)               1573376   \n",
      "_________________________________________________________________\n",
      "dropout_5 (Dropout)          (None, 512)               0         \n",
      "_________________________________________________________________\n",
      "dense_21 (Dense)             (None, 512)               262656    \n",
      "_________________________________________________________________\n",
      "dropout_6 (Dropout)          (None, 512)               0         \n",
      "_________________________________________________________________\n",
      "dense_22 (Dense)             (None, 512)               262656    \n",
      "_________________________________________________________________\n",
      "dropout_7 (Dropout)          (None, 512)               0         \n",
      "_________________________________________________________________\n",
      "dense_23 (Dense)             (None, 10)                5130      \n",
      "=================================================================\n",
      "Total params: 2,103,818\n",
      "Trainable params: 2,103,818\n",
      "Non-trainable params: 0\n",
      "_________________________________________________________________\n",
      "None\n"
     ]
    }
   ],
   "source": [
    "# Build the MLP model.\n",
    "model = Sequential()\n",
    "model.add(Dense(512, activation='relu', input_dim = 3072))\n",
    "model.add(Dropout(0.2))\n",
    "model.add(Dense(512, activation='relu'))\n",
    "model.add(Dropout(0.2))\n",
    "model.add(Dense(512, activation='relu'))\n",
    "model.add(Dropout(0.2))\n",
    "model.add(Dense(10, activation='softmax'))\n",
    "\n",
    "print(model.summary())"
   ]
  },
  {
   "cell_type": "code",
   "execution_count": 45,
   "metadata": {},
   "outputs": [],
   "source": [
    "model.compile(optimizer=optimizers.Adam(lr=0.001),loss=\"categorical_crossentropy\",metrics=[\"accuracy\"])"
   ]
  },
  {
   "cell_type": "code",
   "execution_count": 46,
   "metadata": {
    "colab": {
     "base_uri": "https://localhost:8080/",
     "height": 239
    },
    "colab_type": "code",
    "id": "HgCWvPJaPClL",
    "outputId": "8f0bfe67-eea8-4b2c-bbe1-013faad91495"
   },
   "outputs": [
    {
     "name": "stdout",
     "output_type": "stream",
     "text": [
      "Train on 10000 samples, validate on 5000 samples\n",
      "Epoch 1/5\n",
      "10000/10000 [==============================] - 19s 2ms/step - loss: 2.1526 - accuracy: 0.2055 - val_loss: 1.9649 - val_accuracy: 0.2788\n",
      "Epoch 2/5\n",
      "10000/10000 [==============================] - 17s 2ms/step - loss: 1.9830 - accuracy: 0.2707 - val_loss: 1.9067 - val_accuracy: 0.3022\n",
      "Epoch 3/5\n",
      "10000/10000 [==============================] - 17s 2ms/step - loss: 1.9488 - accuracy: 0.2810 - val_loss: 1.8609 - val_accuracy: 0.3376\n",
      "Epoch 4/5\n",
      "10000/10000 [==============================] - 19s 2ms/step - loss: 1.9042 - accuracy: 0.2890 - val_loss: 1.8468 - val_accuracy: 0.3452\n",
      "Epoch 5/5\n",
      "10000/10000 [==============================] - 19s 2ms/step - loss: 1.8872 - accuracy: 0.3041 - val_loss: 1.8451 - val_accuracy: 0.3236\n",
      "Total training time is 1.52 minute\n"
     ]
    }
   ],
   "source": [
    "import time\n",
    "start=time.time()\n",
    "history = model.fit(x_train_mlp, y_train_mlp, batch_size=32, epochs=5, validation_data=(x_val_mlp,y_val_mlp), shuffle =True, verbose =1)\n",
    "end=time.time()\n",
    "model_time=end-start\n",
    "print(\"Total training time is {:0.2f} minute\".format(model_time/60.0))"
   ]
  },
  {
   "cell_type": "markdown",
   "metadata": {
    "colab_type": "text",
    "id": "K7Elw6e3Q1mv"
   },
   "source": [
    "**Plot Loss Vs Epochs**"
   ]
  },
  {
   "cell_type": "code",
   "execution_count": 31,
   "metadata": {
    "colab": {},
    "colab_type": "code",
    "id": "gTzc1z7lQkTS"
   },
   "outputs": [
    {
     "data": {
      "image/png": "[encoded data removed]",
      "text/plain": [
       "<Figure size 432x288 with 1 Axes>"
      ]
     },
     "metadata": {
      "needs_background": "light"
     },
     "output_type": "display_data"
    }
   ],
   "source": [
    "plt.plot(history.history['loss'])\n",
    "plt.plot(history.history['val_loss'])\n",
    "plt.title('model loss')\n",
    "plt.ylabel('loss')\n",
    "plt.xlabel('epoch')\n",
    "plt.legend(['Train','Validation'],loc='upper left')\n",
    "plt.show()"
   ]
  },
  {
   "cell_type": "markdown",
   "metadata": {
    "colab_type": "text",
    "id": "EgkedH5bQ-Ge"
   },
   "source": [
    "**Plot Accuracy Vs Epochs**"
   ]
  },
  {
   "cell_type": "code",
   "execution_count": 32,
   "metadata": {
    "colab": {},
    "colab_type": "code",
    "id": "M03Skp2YQkf2"
   },
   "outputs": [
    {
     "data": {
      "image/png": "[encoded data removed]",
      "text/plain": [
       "<Figure size 432x288 with 1 Axes>"
      ]
     },
     "metadata": {
      "needs_background": "light"
     },
     "output_type": "display_data"
    }
   ],
   "source": [
    "plt.plot(history.history['accuracy'])\n",
    "plt.plot(history.history['val_accuracy'])\n",
    "plt.title('model accuracy')\n",
    "plt.ylabel('accuracy')\n",
    "plt.xlabel('epoch')\n",
    "plt.legend(['Train','Validation'],loc='upper left')\n",
    "plt.show()"
   ]
  },
  {
   "cell_type": "code",
   "execution_count": 33,
   "metadata": {
    "colab": {},
    "colab_type": "code",
    "id": "UFeY4bOrRBYI"
   },
   "outputs": [
    {
     "name": "stdout",
     "output_type": "stream",
     "text": [
      "Test loss: 1.72366015625 / Test accuracy: 0.38339999318122864\n"
     ]
    }
   ],
   "source": [
    "score = model.evaluate(x_test_mlp, y_test_mlp, batch_size=32, verbose=0)\n",
    "print(f'Test loss: {score[0]} / Test accuracy: {score[1]}')\n"
   ]
  },
  {
   "cell_type": "markdown",
   "metadata": {
    "colab_type": "text",
    "id": "wDs9zcvlMzJ7"
   },
   "source": [
    "### **CNN_part 1**"
   ]
  },
  {
   "cell_type": "markdown",
   "metadata": {
    "colab_type": "text",
    "id": "F5KS5unLC3Lj"
   },
   "source": [
    "**Preparing the dataset**"
   ]
  },
  {
   "cell_type": "code",
   "execution_count": 21,
   "metadata": {
    "colab": {},
    "colab_type": "code",
    "id": "S_sbHaWX9UUT"
   },
   "outputs": [
    {
     "name": "stdout",
     "output_type": "stream",
     "text": [
      "(5000, 32, 32, 3) (5000, 32, 32, 3) (5000, 1) (5000, 1)\n"
     ]
    }
   ],
   "source": [
    "x_test, x_val, y_test, y_val = train_test_split(testX, testY, test_size = 0.5, random_state = 42)\n",
    "print(x_test.shape, x_val.shape, y_test.shape, y_val.shape)"
   ]
  },
  {
   "cell_type": "code",
   "execution_count": 22,
   "metadata": {
    "colab": {},
    "colab_type": "code",
    "id": "84VSiSmDAYUK"
   },
   "outputs": [],
   "source": [
    "y_train_cnn = to_categorical(y_train, num_classes=10)\n",
    "y_test_cnn = to_categorical(y_test, num_classes=10)\n",
    "y_val_cnn = to_categorical(y_val, num_classes=10)\n",
    "x_train_cnn = x_train.astype('float32')\n",
    "x_test_cnn = x_test.astype('float32')\n",
    "x_val_cnn = x_val.astype('float32')\n",
    "x_train_cnn /= 255\n",
    "x_test_cnn /= 255"
   ]
  },
  {
   "cell_type": "code",
   "execution_count": 23,
   "metadata": {
    "colab": {},
    "colab_type": "code",
    "id": "cNh8CPF9Bxt_"
   },
   "outputs": [
    {
     "name": "stdout",
     "output_type": "stream",
     "text": [
      "Shape of training data:\n",
      "(10000, 32, 32, 3)\n",
      "(10000, 10)\n",
      "Shape of validation data:\n",
      "(5000, 32, 32, 3)\n",
      "(5000, 10)\n",
      "Shape of test data:\n",
      "(5000, 32, 32, 3)\n",
      "(5000, 10)\n"
     ]
    }
   ],
   "source": [
    "print(\"Shape of training data:\")\n",
    "print(x_train_cnn.shape)\n",
    "print(y_train_cnn.shape)\n",
    "print(\"Shape of validation data:\")\n",
    "print(x_val_cnn.shape)\n",
    "print(y_val_cnn.shape)\n",
    "print(\"Shape of test data:\")\n",
    "print(x_test_cnn.shape)\n",
    "print(y_test_cnn.shape)"
   ]
  },
  {
   "cell_type": "markdown",
   "metadata": {
    "colab_type": "text",
    "id": "Rkzy0JQCDQmI"
   },
   "source": [
    "**Creating the CNN Model**"
   ]
  },
  {
   "cell_type": "markdown",
   "metadata": {
    "colab_type": "text",
    "id": "mH7NKqInDZlq"
   },
   "source": [
    "We will use two convolutional layers, each with 64 filters a kernel size of (3,3) and ReLU activation function. We will use padding same and 2 fully connected dense layer with 512 units and sigmoid activation function. At last we will use output layer i.e no of classes =10 and softmax activiaction function, since we are solving classification problem."
   ]
  },
  {
   "cell_type": "code",
   "execution_count": 24,
   "metadata": {
    "colab": {},
    "colab_type": "code",
    "id": "JVrkGg5_66iN"
   },
   "outputs": [],
   "source": [
    "model = Sequential()\n",
    "model.add(Conv2D(64, (3, 3), activation='relu',padding = 'same',input_shape=(32, 32, 3)))\n",
    "model.add(Conv2D(64,(3, 3),activation='relu', padding = 'same'))\n",
    "model.add(Flatten())\n",
    "model.add(Dense(units = 512, activation = 'sigmoid'))\n",
    "model.add(Dense(units = 512, activation = 'sigmoid'))\n",
    "model.add(Dense(units = 10, activation = 'softmax'))"
   ]
  },
  {
   "cell_type": "markdown",
   "metadata": {
    "colab_type": "text",
    "id": "l2q7vxkzEN4v"
   },
   "source": [
    "Model.summary gives the model summary"
   ]
  },
  {
   "cell_type": "code",
   "execution_count": 25,
   "metadata": {
    "colab": {},
    "colab_type": "code",
    "id": "4qPKniMpCiVx"
   },
   "outputs": [
    {
     "name": "stdout",
     "output_type": "stream",
     "text": [
      "Model: \"sequential_2\"\n",
      "_________________________________________________________________\n",
      "Layer (type)                 Output Shape              Param #   \n",
      "=================================================================\n",
      "conv2d_1 (Conv2D)            (None, 32, 32, 64)        1792      \n",
      "_________________________________________________________________\n",
      "conv2d_2 (Conv2D)            (None, 32, 32, 64)        36928     \n",
      "_________________________________________________________________\n",
      "flatten_1 (Flatten)          (None, 65536)             0         \n",
      "_________________________________________________________________\n",
      "dense_4 (Dense)              (None, 512)               33554944  \n",
      "_________________________________________________________________\n",
      "dense_5 (Dense)              (None, 512)               262656    \n",
      "_________________________________________________________________\n",
      "dense_6 (Dense)              (None, 10)                5130      \n",
      "=================================================================\n",
      "Total params: 33,861,450\n",
      "Trainable params: 33,861,450\n",
      "Non-trainable params: 0\n",
      "_________________________________________________________________\n"
     ]
    }
   ],
   "source": [
    "model.summary()"
   ]
  },
  {
   "cell_type": "markdown",
   "metadata": {
    "colab_type": "text",
    "id": "GUCj7n8wEsys"
   },
   "source": [
    "Model.Compile the model, where  we will use adam optimizer with 0.001 learning rate. Here we define categorical_crossentropy loss function (used for single label categorization) and accuracy as an evaluation matrics."
   ]
  },
  {
   "cell_type": "code",
   "execution_count": 26,
   "metadata": {
    "colab": {},
    "colab_type": "code",
    "id": "RAIuXxVqDRgC"
   },
   "outputs": [],
   "source": [
    "model.compile(optimizer=optimizers.Adam(lr=0.001),loss=\"categorical_crossentropy\",metrics=[\"accuracy\"])"
   ]
  },
  {
   "cell_type": "markdown",
   "metadata": {
    "colab_type": "text",
    "id": "OEFM22GLFRlL"
   },
   "source": [
    "**Trainning the CNN_1 Model**"
   ]
  },
  {
   "cell_type": "code",
   "execution_count": 27,
   "metadata": {
    "colab": {},
    "colab_type": "code",
    "id": "J8Z7oTnqD4yB"
   },
   "outputs": [
    {
     "ename": "NameError",
     "evalue": "name 'batch_size' is not defined",
     "output_type": "error",
     "traceback": [
      "\u001b[1;31m---------------------------------------------------------------------------\u001b[0m",
      "\u001b[1;31mNameError\u001b[0m                                 Traceback (most recent call last)",
      "\u001b[1;32m<ipython-input-27-e2d0f39ce5e1>\u001b[0m in \u001b[0;36m<module>\u001b[1;34m\u001b[0m\n\u001b[0;32m      1\u001b[0m \u001b[1;32mimport\u001b[0m \u001b[0mtime\u001b[0m\u001b[1;33m\u001b[0m\u001b[1;33m\u001b[0m\u001b[0m\n\u001b[0;32m      2\u001b[0m \u001b[0mstart\u001b[0m\u001b[1;33m=\u001b[0m\u001b[0mtime\u001b[0m\u001b[1;33m.\u001b[0m\u001b[0mtime\u001b[0m\u001b[1;33m(\u001b[0m\u001b[1;33m)\u001b[0m\u001b[1;33m\u001b[0m\u001b[1;33m\u001b[0m\u001b[0m\n\u001b[1;32m----> 3\u001b[1;33m \u001b[0mcnn\u001b[0m \u001b[1;33m=\u001b[0m \u001b[0mmodel\u001b[0m\u001b[1;33m.\u001b[0m\u001b[0mfit\u001b[0m\u001b[1;33m(\u001b[0m\u001b[0mx_train_cnn\u001b[0m\u001b[1;33m,\u001b[0m \u001b[0my_train_cnn\u001b[0m\u001b[1;33m,\u001b[0m \u001b[0mbatch_size\u001b[0m\u001b[1;33m=\u001b[0m\u001b[0mbatch_size\u001b[0m\u001b[1;33m,\u001b[0m \u001b[0mepochs\u001b[0m\u001b[1;33m=\u001b[0m\u001b[1;36m5\u001b[0m\u001b[1;33m,\u001b[0m \u001b[0mvalidation_data\u001b[0m\u001b[1;33m=\u001b[0m\u001b[1;33m(\u001b[0m\u001b[0mx_val_cnn\u001b[0m\u001b[1;33m,\u001b[0m\u001b[0my_val_cnn\u001b[0m\u001b[1;33m)\u001b[0m\u001b[1;33m,\u001b[0m \u001b[0mshuffle\u001b[0m \u001b[1;33m=\u001b[0m \u001b[1;32mTrue\u001b[0m\u001b[1;33m)\u001b[0m\u001b[1;33m\u001b[0m\u001b[1;33m\u001b[0m\u001b[0m\n\u001b[0m\u001b[0;32m      4\u001b[0m \u001b[0mend\u001b[0m\u001b[1;33m=\u001b[0m\u001b[0mtime\u001b[0m\u001b[1;33m.\u001b[0m\u001b[0mtime\u001b[0m\u001b[1;33m(\u001b[0m\u001b[1;33m)\u001b[0m\u001b[1;33m\u001b[0m\u001b[1;33m\u001b[0m\u001b[0m\n\u001b[0;32m      5\u001b[0m \u001b[0mmodel_time\u001b[0m\u001b[1;33m=\u001b[0m\u001b[0mend\u001b[0m\u001b[1;33m-\u001b[0m\u001b[0mstart\u001b[0m\u001b[1;33m\u001b[0m\u001b[1;33m\u001b[0m\u001b[0m\n",
      "\u001b[1;31mNameError\u001b[0m: name 'batch_size' is not defined"
     ]
    }
   ],
   "source": [
    "import time\n",
    "start=time.time()\n",
    "cnn = model.fit(x_train_cnn, y_train_cnn, batch_size=batch_size, epochs=5, validation_data=(x_val_cnn,y_val_cnn), shuffle = True)\n",
    "end=time.time()\n",
    "model_time=end-start\n",
    "print(\"Total training time is {:0.2f} minute\".format(model_time/60.0))"
   ]
  },
  {
   "cell_type": "markdown",
   "metadata": {
    "colab_type": "text",
    "id": "yOZRwFVLQaYF"
   },
   "source": [
    "**Plot Loss Vs Epochs**"
   ]
  },
  {
   "cell_type": "code",
   "execution_count": null,
   "metadata": {
    "colab": {},
    "colab_type": "code",
    "id": "9rVluqbGD9bI"
   },
   "outputs": [],
   "source": [
    "plt.plot(cnn.history['loss'])\n",
    "plt.plot(cnn.history['val_loss'])\n",
    "plt.title('model loss')\n",
    "plt.ylabel('loss')\n",
    "plt.xlabel('epoch')\n",
    "plt.legend(['Train','Validation'],loc='upper left')\n",
    "plt.show()\n"
   ]
  },
  {
   "cell_type": "markdown",
   "metadata": {
    "colab_type": "text",
    "id": "Ph_zBwozRSX1"
   },
   "source": [
    "**Plot Accuracy Vs Epochs**"
   ]
  },
  {
   "cell_type": "code",
   "execution_count": null,
   "metadata": {
    "colab": {},
    "colab_type": "code",
    "id": "8u2HzUT6E5MP"
   },
   "outputs": [],
   "source": [
    "plt.plot(cnn.history['accuracy'])\n",
    "plt.plot(cnn.history['val_accuracy'])\n",
    "plt.title('model accuracy')\n",
    "plt.ylabel('accuracy')\n",
    "plt.xlabel('epoch')\n",
    "plt.legend(['Train','Validation'],loc='upper left')\n",
    "plt.show()\n"
   ]
  },
  {
   "cell_type": "markdown",
   "metadata": {
    "colab_type": "text",
    "id": "qx8Ws5O_RYef"
   },
   "source": [
    "**Evaluation on Test Data**"
   ]
  },
  {
   "cell_type": "code",
   "execution_count": null,
   "metadata": {
    "colab": {},
    "colab_type": "code",
    "id": "vwgeEYCIHxVj"
   },
   "outputs": [],
   "source": [
    "score = model.evaluate(x_test_cnn, y_test_cnn, verbose=0)\n",
    "print(f'Test loss: {score[0]} / Test accuracy: {score[1]}')"
   ]
  },
  {
   "cell_type": "markdown",
   "metadata": {
    "colab_type": "text",
    "id": "1nn9gzlpXsei"
   },
   "source": [
    "As we can see, the CNN reached significantly higher accuracy than the MLP classifier, but overfitting occured during the training of our model. To avoid this, the use of some regularization techniques would be advised. So we will train our next model using dropout layer and maxpooling2D."
   ]
  },
  {
   "cell_type": "markdown",
   "metadata": {
    "colab_type": "text",
    "id": "VVO414StKukO"
   },
   "source": [
    "# **PART 3 CNN with dropout Layer**"
   ]
  },
  {
   "cell_type": "code",
   "execution_count": null,
   "metadata": {
    "colab": {},
    "colab_type": "code",
    "id": "0Gn3k0lSKy4j"
   },
   "outputs": [],
   "source": [
    "model_2 = Sequential()\n",
    "model_2.add(Conv2D(64, kernel_size=(3, 3), padding = 'same',activation='relu', input_shape= (32,32,3)))\n",
    "model_2.add(MaxPooling2D(pool_size=(2, 2)))\n",
    "model_2.add(Conv2D(64, kernel_size=(3, 3),padding = 'same', activation='relu'))\n",
    "model_2.add(MaxPooling2D(pool_size=(2, 2)))\n",
    "model_2.add(Flatten())\n",
    "model_2.add(Dense(512))\n",
    "model_2.add(Activation('sigmoid'))\n",
    "model_2.add(Dropout(0.2))\n",
    "model_2.add(Dense(512))\n",
    "model_2.add(Activation('sigmoid'))\n",
    "model_2.add(Dropout(0.2))\n",
    "model_2.add(Dense(num_classes))\n",
    "model_2.add(Activation('softmax'))\n",
    "    "
   ]
  },
  {
   "cell_type": "code",
   "execution_count": null,
   "metadata": {
    "colab": {},
    "colab_type": "code",
    "id": "Cbh0vW5UPPsF"
   },
   "outputs": [],
   "source": [
    "model_2.summary()"
   ]
  },
  {
   "cell_type": "code",
   "execution_count": null,
   "metadata": {
    "colab": {},
    "colab_type": "code",
    "id": "GASp1-ImR255"
   },
   "outputs": [],
   "source": [
    "model_2.compile(optimizer=optimizers.Adam(lr=0.001),loss=\"categorical_crossentropy\",metrics=[\"accuracy\"])"
   ]
  },
  {
   "cell_type": "code",
   "execution_count": null,
   "metadata": {
    "colab": {
     "base_uri": "https://localhost:8080/",
     "height": 247
    },
    "colab_type": "code",
    "id": "GYdEIVpNSThE",
    "outputId": "d4cc1b55-7ee4-4d78-f74b-3c10d9a5ec77"
   },
   "outputs": [],
   "source": [
    "import time\n",
    "start=time.time()\n",
    "cnn_2 = model_2.fit(x_train_cnn, y_train_cnn, batch_size=batch_size, epochs=5, validation_data=(x_val_cnn,y_val_cnn), shuffle = True)\n",
    "end=time.time()\n",
    "model_time=end-start\n",
    "print(\"Total training time is {:0.2f} minute\".format(model_time/60.0))"
   ]
  },
  {
   "cell_type": "markdown",
   "metadata": {
    "colab_type": "text",
    "id": "2YOzIIeSSFbA"
   },
   "source": [
    "**Plot Loss Vs Epochs**"
   ]
  },
  {
   "cell_type": "code",
   "execution_count": null,
   "metadata": {
    "colab": {},
    "colab_type": "code",
    "id": "pCQL9X4NSnUp"
   },
   "outputs": [],
   "source": [
    "plt.plot(cnn_2.history['loss'])\n",
    "plt.plot(cnn_2.history['val_loss'])\n",
    "plt.title('model loss')\n",
    "plt.ylabel('loss')\n",
    "plt.xlabel('epoch')\n",
    "plt.legend(['Train','Validation'],loc='upper left')\n",
    "plt.show()"
   ]
  },
  {
   "cell_type": "markdown",
   "metadata": {
    "colab_type": "text",
    "id": "dsNvMaJISJ2k"
   },
   "source": [
    "**Plot Accuracy Vs Epochs**"
   ]
  },
  {
   "cell_type": "code",
   "execution_count": null,
   "metadata": {
    "colab": {},
    "colab_type": "code",
    "id": "4RX0r3hGTd4C"
   },
   "outputs": [],
   "source": [
    "plt.plot(cnn_2.history['accuracy'])\n",
    "plt.plot(cnn_2.history['val_accuracy'])\n",
    "plt.title('model accuracy')\n",
    "plt.ylabel('accuracy')\n",
    "plt.xlabel('epoch')\n",
    "plt.legend(['Train','Validation'],loc='upper left')\n",
    "plt.show()"
   ]
  },
  {
   "cell_type": "code",
   "execution_count": null,
   "metadata": {
    "colab": {},
    "colab_type": "code",
    "id": "IZSMFi0TTkJD"
   },
   "outputs": [],
   "source": [
    "score = model_2.evaluate(x_test_cnn, y_test_cnn, verbose=0)\n",
    "print(f'Test loss: {score[0]} / Test accuracy: {score[1]}')"
   ]
  },
  {
   "cell_type": "code",
   "execution_count": null,
   "metadata": {
    "colab": {},
    "colab_type": "code",
    "id": "R868D18XUx5M"
   },
   "outputs": [],
   "source": []
  },
  {
   "cell_type": "markdown",
   "metadata": {
    "colab_type": "text",
    "id": "gFIz3VYbe9QN"
   },
   "source": [
    "Classification Matrix"
   ]
  },
  {
   "cell_type": "code",
   "execution_count": null,
   "metadata": {
    "colab": {},
    "colab_type": "code",
    "id": "MyuxzRA6e__u"
   },
   "outputs": [],
   "source": []
  }
 ],
 "metadata": {
  "colab": {
   "name": "A3-Q1.ipynb",
   "provenance": []
  },
  "kernelspec": {
   "display_name": "Python 3",
   "language": "python",
   "name": "python3"
  },
  "language_info": {
   "codemirror_mode": {
    "name": "ipython",
    "version": 3
   },
   "file_extension": ".py",
   "mimetype": "text/x-python",
   "name": "python",
   "nbconvert_exporter": "python",
   "pygments_lexer": "ipython3",
   "version": "3.7.4"
  }
 },
 "nbformat": 4,
 "nbformat_minor": 1
}
