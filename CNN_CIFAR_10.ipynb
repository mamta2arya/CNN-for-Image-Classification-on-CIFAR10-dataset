{
  "nbformat": 4,
  "nbformat_minor": 0,
  "metadata": {
    "colab": {
      "name": "A3-Q1.ipynb",
      "provenance": []
    },
    "kernelspec": {
      "name": "python3",
      "display_name": "Python 3"
    }
  },
  "cells": [
    {
      "cell_type": "code",
      "metadata": {
        "id": "GKHr-cItp6Dx",
        "colab_type": "code",
        "colab": {}
      },
      "source": [
        ""
      ],
      "execution_count": null,
      "outputs": []
    },
    {
      "cell_type": "code",
      "metadata": {
        "id": "vMWydDkVp642",
        "colab_type": "code",
        "colab": {
          "base_uri": "https://localhost:8080/",
          "height": 35
        },
        "outputId": "f6048889-7946-43cf-e9e7-5143dc8f5ace"
      },
      "source": [
        "from google.colab import drive\n",
        "drive.mount('/content/drive')"
      ],
      "execution_count": null,
      "outputs": [
        {
          "output_type": "stream",
          "text": [
            "Drive already mounted at /content/drive; to attempt to forcibly remount, call drive.mount(\"/content/drive\", force_remount=True).\n"
          ],
          "name": "stdout"
        }
      ]
    },
    {
      "cell_type": "code",
      "metadata": {
        "id": "KW9OwjcSvuEK",
        "colab_type": "code",
        "colab": {
          "base_uri": "https://localhost:8080/",
          "height": 35
        },
        "outputId": "6afe596d-af9c-4485-e168-76b3e3fe8e98"
      },
      "source": [
        "import time\n",
        "import matplotlib.pyplot as plt\n",
        "import numpy as np\n",
        "from sklearn.model_selection import train_test_split\n",
        "from keras.models import Sequential\n",
        "from keras.layers import Dense\n",
        "from keras.layers import Dropout\n",
        "from keras.layers import Flatten\n",
        "from keras.layers import Activation\n",
        "from keras.layers.convolutional import Conv2D\n",
        "from keras.layers.convolutional import MaxPooling2D\n",
        "from keras.layers.normalization import BatchNormalization\n",
        "from keras.utils import np_utils\n",
        "from keras import backend as K\n",
        "import tensorflow as tf\n",
        "import multiprocessing as mp\n",
        "from keras import optimizers,regularizers \n",
        "from sklearn import metrics \n",
        "from keras.optimizers import Adam"
      ],
      "execution_count": null,
      "outputs": [
        {
          "output_type": "stream",
          "text": [
            "Using TensorFlow backend.\n"
          ],
          "name": "stderr"
        }
      ]
    },
    {
      "cell_type": "markdown",
      "metadata": {
        "id": "oYINyr13GBaO",
        "colab_type": "text"
      },
      "source": [
        "# **Loading the dataset**"
      ]
    },
    {
      "cell_type": "markdown",
      "metadata": {
        "id": "Hq7T3ZgBGK6w",
        "colab_type": "text"
      },
      "source": [
        "first we will download cifar10 dataset directly from keras. "
      ]
    },
    {
      "cell_type": "code",
      "metadata": {
        "id": "1O786lznp9o7",
        "colab_type": "code",
        "colab": {}
      },
      "source": [
        "from keras.datasets import cifar10"
      ],
      "execution_count": null,
      "outputs": []
    },
    {
      "cell_type": "code",
      "metadata": {
        "id": "ACabefULyFqq",
        "colab_type": "code",
        "colab": {
          "base_uri": "https://localhost:8080/",
          "height": 54
        },
        "outputId": "70019ef1-0858-4f53-eaf5-7654696f9f9d"
      },
      "source": [
        "(trainX, trainY), (testX, testY) = cifar10.load_data()"
      ],
      "execution_count": null,
      "outputs": [
        {
          "output_type": "stream",
          "text": [
            "Downloading data from https://www.cs.toronto.edu/~kriz/cifar-10-python.tar.gz\n",
            "170500096/170498071 [==============================] - 2s 0us/step\n"
          ],
          "name": "stdout"
        }
      ]
    },
    {
      "cell_type": "markdown",
      "metadata": {
        "id": "94pjNR6NGc1Y",
        "colab_type": "text"
      },
      "source": [
        "**Examining the dataset**"
      ]
    },
    {
      "cell_type": "markdown",
      "metadata": {
        "id": "gB1DicBDG5sD",
        "colab_type": "text"
      },
      "source": [
        "first we check the shape of our dataset."
      ]
    },
    {
      "cell_type": "code",
      "metadata": {
        "id": "YTmZkW2EyS7m",
        "colab_type": "code",
        "colab": {
          "base_uri": "https://localhost:8080/",
          "height": 35
        },
        "outputId": "92963db0-55fd-42ce-8d98-f3df1cae8c18"
      },
      "source": [
        "trainX.shape"
      ],
      "execution_count": null,
      "outputs": [
        {
          "output_type": "execute_result",
          "data": {
            "text/plain": [
              "(50000, 32, 32, 3)"
            ]
          },
          "metadata": {
            "tags": []
          },
          "execution_count": 7
        }
      ]
    },
    {
      "cell_type": "code",
      "metadata": {
        "id": "TnhKA7_frHZD",
        "colab_type": "code",
        "colab": {
          "base_uri": "https://localhost:8080/",
          "height": 35
        },
        "outputId": "9f1ae6f3-2c4c-4789-f731-b74b4e8c1708"
      },
      "source": [
        "trainY.shape"
      ],
      "execution_count": null,
      "outputs": [
        {
          "output_type": "execute_result",
          "data": {
            "text/plain": [
              "(50000, 1)"
            ]
          },
          "metadata": {
            "tags": []
          },
          "execution_count": 8
        }
      ]
    },
    {
      "cell_type": "code",
      "metadata": {
        "id": "VpqGtkWy1tSP",
        "colab_type": "code",
        "colab": {
          "base_uri": "https://localhost:8080/",
          "height": 35
        },
        "outputId": "ce6f5fe6-7c07-4fcf-c1eb-0c88734c549f"
      },
      "source": [
        "testX.shape"
      ],
      "execution_count": null,
      "outputs": [
        {
          "output_type": "execute_result",
          "data": {
            "text/plain": [
              "(10000, 32, 32, 3)"
            ]
          },
          "metadata": {
            "tags": []
          },
          "execution_count": 9
        }
      ]
    },
    {
      "cell_type": "markdown",
      "metadata": {
        "id": "rzLM3a72MWe8",
        "colab_type": "text"
      },
      "source": [
        "We have 50000 training and 10000 test data. this is image data set with a structure of (32,32,3) which correspond to (width, height, RGB).\n",
        "For each image there is a corresponding label, which is a class index. \n",
        "We will use 20 % train data out of 50000 that is 10000. \n"
      ]
    },
    {
      "cell_type": "markdown",
      "metadata": {
        "id": "yf2O6HcqLdga",
        "colab_type": "text"
      },
      "source": [
        "**We will use 20 % of train data as training data**"
      ]
    },
    {
      "cell_type": "code",
      "metadata": {
        "id": "C5DeFBhlyyCZ",
        "colab_type": "code",
        "colab": {}
      },
      "source": [
        "number_of_rows = int(trainX.shape[0] * 0.2)\n",
        "x_train = trainX[:number_of_rows]"
      ],
      "execution_count": null,
      "outputs": []
    },
    {
      "cell_type": "code",
      "metadata": {
        "id": "PY5i-EFq0BU-",
        "colab_type": "code",
        "colab": {
          "base_uri": "https://localhost:8080/",
          "height": 35
        },
        "outputId": "34890af8-ea41-4b35-815a-80c1a1acf8ce"
      },
      "source": [
        "x_train.shape"
      ],
      "execution_count": null,
      "outputs": [
        {
          "output_type": "execute_result",
          "data": {
            "text/plain": [
              "(10000, 32, 32, 3)"
            ]
          },
          "metadata": {
            "tags": []
          },
          "execution_count": 11
        }
      ]
    },
    {
      "cell_type": "code",
      "metadata": {
        "id": "2KMNKChM0C8s",
        "colab_type": "code",
        "colab": {}
      },
      "source": [
        "y_train = trainY[:number_of_rows]"
      ],
      "execution_count": null,
      "outputs": []
    },
    {
      "cell_type": "code",
      "metadata": {
        "id": "42VLvNb00Gsj",
        "colab_type": "code",
        "colab": {
          "base_uri": "https://localhost:8080/",
          "height": 35
        },
        "outputId": "95d35e22-6d06-487f-d3ac-13797b729f34"
      },
      "source": [
        "y_train.shape"
      ],
      "execution_count": null,
      "outputs": [
        {
          "output_type": "execute_result",
          "data": {
            "text/plain": [
              "(10000, 1)"
            ]
          },
          "metadata": {
            "tags": []
          },
          "execution_count": 13
        }
      ]
    },
    {
      "cell_type": "markdown",
      "metadata": {
        "id": "-YIBrO_lLwpM",
        "colab_type": "text"
      },
      "source": [
        "**Spliting test data into 50 % validation and 50 % test data**"
      ]
    },
    {
      "cell_type": "code",
      "metadata": {
        "id": "XCL1ylpcknnR",
        "colab_type": "code",
        "colab": {
          "base_uri": "https://localhost:8080/",
          "height": 35
        },
        "outputId": "d552f3ef-9baf-4e94-fbbc-e4243674a6eb"
      },
      "source": [
        "x_test, x_val, y_test, y_val = train_test_split(testX, testY, test_size = 0.5, random_state = 42)\n",
        "print(x_test.shape, x_val.shape, y_test.shape, y_val.shape)"
      ],
      "execution_count": null,
      "outputs": [
        {
          "output_type": "stream",
          "text": [
            "(5000, 32, 32, 3) (5000, 32, 32, 3) (5000, 1) (5000, 1)\n"
          ],
          "name": "stdout"
        }
      ]
    },
    {
      "cell_type": "code",
      "metadata": {
        "id": "j-Cbaar_64XV",
        "colab_type": "code",
        "colab": {}
      },
      "source": [
        "class_names = ['airplane','automobile','bird','cat','deer',\n",
        "               'dog','frog','horse','ship','truck']\n",
        "num_classes = 10"
      ],
      "execution_count": null,
      "outputs": []
    },
    {
      "cell_type": "markdown",
      "metadata": {
        "id": "bdgG-AaNMASZ",
        "colab_type": "text"
      },
      "source": [
        "**Data Normalization**"
      ]
    },
    {
      "cell_type": "markdown",
      "metadata": {
        "id": "svq0rZoaM4hz",
        "colab_type": "text"
      },
      "source": [
        "Using to_categorical we convert the target vectors into binary class vectors. Since it is a image dataset so the dimensions will be between 0 to 1. MLP takes on 2 D (3072) dimensional vector as the input.\n",
        "\n",
        "First we are going to use a Multilayer Perceptron to classify our images dataset."
      ]
    },
    {
      "cell_type": "code",
      "metadata": {
        "id": "enS-_x2H7C2O",
        "colab_type": "code",
        "colab": {}
      },
      "source": [
        "# Convert target vectors to categorical targets\n",
        "y_train_mlp = np_utils.to_categorical(y_train, num_classes)\n",
        "y_val_mlp = np_utils.to_categorical(y_val, num_classes)\n",
        "y_test_mlp =np_utils.to_categorical(y_test, num_classes)\n",
        "x_train_mlp = np.reshape(x_train,(10000,3072))\n",
        "x_test_mlp = np.reshape(x_test,(5000,3072))\n",
        "x_val_mlp = np.reshape(x_val,(5000,3072))\n",
        "x_train_mlp = x_train_mlp.astype('float32')\n",
        "x_test_mlp = x_test_mlp.astype('float32')\n",
        "\n",
        "x_train_mlp /= 255\n",
        "x_test_mlp /= 255"
      ],
      "execution_count": null,
      "outputs": []
    },
    {
      "cell_type": "code",
      "metadata": {
        "id": "aPAVYZHX9uwH",
        "colab_type": "code",
        "colab": {
          "base_uri": "https://localhost:8080/",
          "height": 35
        },
        "outputId": "b8ad9691-5f14-427d-a4c3-6be664a893e2"
      },
      "source": [
        "y_test_mlp.shape"
      ],
      "execution_count": null,
      "outputs": [
        {
          "output_type": "execute_result",
          "data": {
            "text/plain": [
              "(5000, 10)"
            ]
          },
          "metadata": {
            "tags": []
          },
          "execution_count": 17
        }
      ]
    },
    {
      "cell_type": "code",
      "metadata": {
        "id": "tzrblvrsOKLD",
        "colab_type": "code",
        "colab": {
          "base_uri": "https://localhost:8080/",
          "height": 35
        },
        "outputId": "16c0a3e4-2183-420f-82d3-3eca558fbcd4"
      },
      "source": [
        "x_train_mlp = np.reshape(x_train,(10000,3072))\n",
        "x_train_mlp.shape"
      ],
      "execution_count": null,
      "outputs": [
        {
          "output_type": "execute_result",
          "data": {
            "text/plain": [
              "(10000, 3072)"
            ]
          },
          "metadata": {
            "tags": []
          },
          "execution_count": 18
        }
      ]
    },
    {
      "cell_type": "code",
      "metadata": {
        "id": "kdmD9X09SiKD",
        "colab_type": "code",
        "colab": {
          "base_uri": "https://localhost:8080/",
          "height": 35
        },
        "outputId": "3971c1c5-4a6b-4fbb-87e4-ad747aa1f947"
      },
      "source": [
        "#x_train_mlp = x_train.astype('float32')\n",
        "x_train_mlp.shape"
      ],
      "execution_count": null,
      "outputs": [
        {
          "output_type": "execute_result",
          "data": {
            "text/plain": [
              "(10000, 3072)"
            ]
          },
          "metadata": {
            "tags": []
          },
          "execution_count": 19
        }
      ]
    },
    {
      "cell_type": "code",
      "metadata": {
        "id": "jrBk3qbRJ_Xo",
        "colab_type": "code",
        "colab": {
          "base_uri": "https://localhost:8080/",
          "height": 35
        },
        "outputId": "4f302b21-a2a8-4150-b2c4-0ee932825630"
      },
      "source": [
        "input_shape= 3072\n",
        "input_shape"
      ],
      "execution_count": null,
      "outputs": [
        {
          "output_type": "execute_result",
          "data": {
            "text/plain": [
              "3072"
            ]
          },
          "metadata": {
            "tags": []
          },
          "execution_count": 20
        }
      ]
    },
    {
      "cell_type": "code",
      "metadata": {
        "id": "yBuLB4iNJUd2",
        "colab_type": "code",
        "colab": {}
      },
      "source": [
        "batch_size=32\n",
        "epochs=5"
      ],
      "execution_count": null,
      "outputs": []
    },
    {
      "cell_type": "markdown",
      "metadata": {
        "id": "dPlfuqfnPjpX",
        "colab_type": "text"
      },
      "source": [
        "# **2- MLP(Multilayer Perceptron)**"
      ]
    },
    {
      "cell_type": "code",
      "metadata": {
        "id": "5RwDfMzAOrFr",
        "colab_type": "code",
        "colab": {}
      },
      "source": [
        "model = Sequential()\n",
        "model.add(Dense(512, activation='sigmoid', input_dim=3072))\n",
        "model.add(Dense(512, activation='sigmoid'))\n",
        "model.add(Dense(10, activation='softmax'))"
      ],
      "execution_count": null,
      "outputs": []
    },
    {
      "cell_type": "code",
      "metadata": {
        "id": "2QYO0xIDO114",
        "colab_type": "code",
        "colab": {
          "base_uri": "https://localhost:8080/",
          "height": 276
        },
        "outputId": "8e21a982-f2c8-44c4-fc7c-f9bb71bd094a"
      },
      "source": [
        "model.summary()"
      ],
      "execution_count": null,
      "outputs": [
        {
          "output_type": "stream",
          "text": [
            "Model: \"sequential_3\"\n",
            "_________________________________________________________________\n",
            "Layer (type)                 Output Shape              Param #   \n",
            "=================================================================\n",
            "dense_1 (Dense)              (None, 512)               1573376   \n",
            "_________________________________________________________________\n",
            "dense_2 (Dense)              (None, 512)               262656    \n",
            "_________________________________________________________________\n",
            "dense_3 (Dense)              (None, 10)                5130      \n",
            "=================================================================\n",
            "Total params: 1,841,162\n",
            "Trainable params: 1,841,162\n",
            "Non-trainable params: 0\n",
            "_________________________________________________________________\n"
          ],
          "name": "stdout"
        }
      ]
    },
    {
      "cell_type": "code",
      "metadata": {
        "id": "4qf3bjwPO6_V",
        "colab_type": "code",
        "colab": {}
      },
      "source": [
        "model.compile(optimizer=optimizers.Adam(lr=0.001),loss=\"categorical_crossentropy\",metrics=[\"accuracy\"])"
      ],
      "execution_count": null,
      "outputs": []
    },
    {
      "cell_type": "code",
      "metadata": {
        "id": "HgCWvPJaPClL",
        "colab_type": "code",
        "colab": {
          "base_uri": "https://localhost:8080/",
          "height": 239
        },
        "outputId": "8f0bfe67-eea8-4b2c-bbe1-013faad91495"
      },
      "source": [
        "import time\n",
        "start=time.time()\n",
        "history = model.fit(x_train_mlp, y_train_mlp, batch_size=32, epochs=5, validation_data=(x_val_mlp,y_val_mlp), shuffle =True)\n",
        "end=time.time()\n",
        "model_time=end-start\n",
        "print(\"Total training time is {:0.2f} minute\".format(model_time/60.0))"
      ],
      "execution_count": null,
      "outputs": [
        {
          "output_type": "stream",
          "text": [
            "Train on 10000 samples, validate on 5000 samples\n",
            "Epoch 1/5\n",
            "10000/10000 [==============================] - 8s 826us/step - loss: 2.3576 - accuracy: 0.1040 - val_loss: 2.3273 - val_accuracy: 0.1022\n",
            "Epoch 2/5\n",
            "10000/10000 [==============================] - 8s 796us/step - loss: 2.3259 - accuracy: 0.1008 - val_loss: 2.3268 - val_accuracy: 0.1012\n",
            "Epoch 3/5\n",
            "10000/10000 [==============================] - 8s 794us/step - loss: 2.3232 - accuracy: 0.0978 - val_loss: 2.3122 - val_accuracy: 0.1012\n",
            "Epoch 4/5\n",
            "10000/10000 [==============================] - 8s 789us/step - loss: 2.3202 - accuracy: 0.0995 - val_loss: 2.3195 - val_accuracy: 0.1022\n",
            "Epoch 5/5\n",
            "10000/10000 [==============================] - 8s 803us/step - loss: 2.3205 - accuracy: 0.1012 - val_loss: 2.3144 - val_accuracy: 0.1000\n",
            "Total training time is 0.67 minute\n"
          ],
          "name": "stdout"
        }
      ]
    },
    {
      "cell_type": "markdown",
      "metadata": {
        "id": "K7Elw6e3Q1mv",
        "colab_type": "text"
      },
      "source": [
        "**Plot Loss Vs Epochs**"
      ]
    },
    {
      "cell_type": "code",
      "metadata": {
        "id": "gTzc1z7lQkTS",
        "colab_type": "code",
        "colab": {}
      },
      "source": [
        "plt.plot(history.history['loss'])\n",
        "plt.plot(history.history['val_loss'])\n",
        "plt.title('model loss')\n",
        "plt.ylabel('loss')\n",
        "plt.xlabel('epoch')\n",
        "plt.legend(['Train','Validation'],loc='upper left')\n",
        "plt.show()"
      ],
      "execution_count": null,
      "outputs": []
    },
    {
      "cell_type": "markdown",
      "metadata": {
        "id": "EgkedH5bQ-Ge",
        "colab_type": "text"
      },
      "source": [
        "**Plot Accuracy Vs Epochs**"
      ]
    },
    {
      "cell_type": "code",
      "metadata": {
        "id": "M03Skp2YQkf2",
        "colab_type": "code",
        "colab": {}
      },
      "source": [
        "plt.plot(history.history['accuracy'])\n",
        "plt.plot(history.history['val_accuracy'])\n",
        "plt.title('model accuracy')\n",
        "plt.ylabel('accuracy')\n",
        "plt.xlabel('epoch')\n",
        "plt.legend(['Train','Validation'],loc='upper left')\n",
        "plt.show()"
      ],
      "execution_count": null,
      "outputs": []
    },
    {
      "cell_type": "code",
      "metadata": {
        "id": "UFeY4bOrRBYI",
        "colab_type": "code",
        "colab": {}
      },
      "source": [
        "score = model.evaluate(x_test_mlp, y_test_mlp, batch_size=32, verbose=0)\n",
        "print(f'Test loss: {score[0]} / Test accuracy: {score[1]}')\n"
      ],
      "execution_count": null,
      "outputs": []
    },
    {
      "cell_type": "markdown",
      "metadata": {
        "id": "wDs9zcvlMzJ7",
        "colab_type": "text"
      },
      "source": [
        "**CNN_part 1**"
      ]
    },
    {
      "cell_type": "markdown",
      "metadata": {
        "id": "F5KS5unLC3Lj",
        "colab_type": "text"
      },
      "source": [
        "**Preparing the dataset**"
      ]
    },
    {
      "cell_type": "code",
      "metadata": {
        "id": "S_sbHaWX9UUT",
        "colab_type": "code",
        "colab": {}
      },
      "source": [
        "x_test, x_val, y_test, y_val = train_test_split(testX, testY, test_size = 0.5, random_state = 42)\n",
        "print(x_test.shape, x_val.shape, y_test.shape, y_val.shape)"
      ],
      "execution_count": null,
      "outputs": []
    },
    {
      "cell_type": "code",
      "metadata": {
        "id": "84VSiSmDAYUK",
        "colab_type": "code",
        "colab": {}
      },
      "source": [
        "y_train_cnn = np_utils.to_categorical(y_train, num_classes=10)\n",
        "y_test_cnn = np_utils.to_categorical(y_test, num_classes=10)\n",
        "y_val_cnn = np_utils.to_categorical(y_val, num_classes=10)\n",
        "x_train_cnn = x_train.astype('float32')\n",
        "x_test_cnn = x_test.astype('float32')\n",
        "x_val_cnn = x_val.astype('float32')\n",
        "x_train_cnn /= 255\n",
        "x_test_cnn /= 255"
      ],
      "execution_count": null,
      "outputs": []
    },
    {
      "cell_type": "code",
      "metadata": {
        "id": "cNh8CPF9Bxt_",
        "colab_type": "code",
        "colab": {}
      },
      "source": [
        "print(\"Shape of training data:\")\n",
        "print(x_train_cnn.shape)\n",
        "print(y_train_cnn.shape)\n",
        "print(\"Shape of validation data:\")\n",
        "print(x_val_cnn.shape)\n",
        "print(y_val_cnn.shape)\n",
        "print(\"Shape of test data:\")\n",
        "print(x_test_cnn.shape)\n",
        "print(y_test_cnn.shape)"
      ],
      "execution_count": null,
      "outputs": []
    },
    {
      "cell_type": "markdown",
      "metadata": {
        "id": "Rkzy0JQCDQmI",
        "colab_type": "text"
      },
      "source": [
        "**Creating the CNN Model**"
      ]
    },
    {
      "cell_type": "markdown",
      "metadata": {
        "id": "mH7NKqInDZlq",
        "colab_type": "text"
      },
      "source": [
        "We will use two convolutional layers, each with 64 filters a kernel size of (3,3) and ReLU activation function. We will use padding same and 2 fully connected dense layer with 512 units and sigmoid activation function. At last we will use output layer i.e no of classes =10 and softmax activiaction function, since we are solving classification problem."
      ]
    },
    {
      "cell_type": "code",
      "metadata": {
        "id": "JVrkGg5_66iN",
        "colab_type": "code",
        "colab": {}
      },
      "source": [
        "model = Sequential()\n",
        "model.add(Conv2D(64, (3, 3), activation='relu',padding = 'same',input_shape=(32, 32, 3)))\n",
        "model.add(Conv2D(64,(3, 3),activation='relu', padding = 'same'))\n",
        "model.add(Flatten())\n",
        "model.add(Dense(units = 512, activation = 'sigmoid'))\n",
        "model.add(Dense(units = 512, activation = 'sigmoid'))\n",
        "model.add(Dense(units = 10, activation = 'softmax'))"
      ],
      "execution_count": null,
      "outputs": []
    },
    {
      "cell_type": "markdown",
      "metadata": {
        "id": "l2q7vxkzEN4v",
        "colab_type": "text"
      },
      "source": [
        "Model.summary gives the model summary"
      ]
    },
    {
      "cell_type": "code",
      "metadata": {
        "id": "4qPKniMpCiVx",
        "colab_type": "code",
        "colab": {}
      },
      "source": [
        "model.summary()"
      ],
      "execution_count": null,
      "outputs": []
    },
    {
      "cell_type": "markdown",
      "metadata": {
        "id": "GUCj7n8wEsys",
        "colab_type": "text"
      },
      "source": [
        "Model.Compile the model, where  we will use adam optimizer with 0.001 learning rate. Here we define categorical_crossentropy loss function (used for single label categorization) and accuracy as an evaluation matrics."
      ]
    },
    {
      "cell_type": "code",
      "metadata": {
        "id": "RAIuXxVqDRgC",
        "colab_type": "code",
        "colab": {}
      },
      "source": [
        "model.compile(optimizer=optimizers.Adam(lr=0.001),loss=\"categorical_crossentropy\",metrics=[\"accuracy\"])"
      ],
      "execution_count": null,
      "outputs": []
    },
    {
      "cell_type": "markdown",
      "metadata": {
        "id": "OEFM22GLFRlL",
        "colab_type": "text"
      },
      "source": [
        "**Trainning the CNN_1 Model**"
      ]
    },
    {
      "cell_type": "code",
      "metadata": {
        "id": "J8Z7oTnqD4yB",
        "colab_type": "code",
        "colab": {}
      },
      "source": [
        "import time\n",
        "start=time.time()\n",
        "cnn = model.fit(x_train_cnn, y_train_cnn, batch_size=batch_size, epochs=5, validation_data=(x_val_cnn,y_val_cnn), shuffle = True)\n",
        "end=time.time()\n",
        "model_time=end-start\n",
        "print(\"Total training time is {:0.2f} minute\".format(model_time/60.0))"
      ],
      "execution_count": null,
      "outputs": []
    },
    {
      "cell_type": "markdown",
      "metadata": {
        "id": "yOZRwFVLQaYF",
        "colab_type": "text"
      },
      "source": [
        "**Plot Loss Vs Epochs**"
      ]
    },
    {
      "cell_type": "code",
      "metadata": {
        "id": "9rVluqbGD9bI",
        "colab_type": "code",
        "colab": {}
      },
      "source": [
        "plt.plot(cnn.history['loss'])\n",
        "plt.plot(cnn.history['val_loss'])\n",
        "plt.title('model loss')\n",
        "plt.ylabel('loss')\n",
        "plt.xlabel('epoch')\n",
        "plt.legend(['Train','Validation'],loc='upper left')\n",
        "plt.show()\n"
      ],
      "execution_count": null,
      "outputs": []
    },
    {
      "cell_type": "markdown",
      "metadata": {
        "id": "Ph_zBwozRSX1",
        "colab_type": "text"
      },
      "source": [
        "**Plot Accuracy Vs Epochs**"
      ]
    },
    {
      "cell_type": "code",
      "metadata": {
        "id": "8u2HzUT6E5MP",
        "colab_type": "code",
        "colab": {}
      },
      "source": [
        "plt.plot(cnn.history['accuracy'])\n",
        "plt.plot(cnn.history['val_accuracy'])\n",
        "plt.title('model accuracy')\n",
        "plt.ylabel('accuracy')\n",
        "plt.xlabel('epoch')\n",
        "plt.legend(['Train','Validation'],loc='upper left')\n",
        "plt.show()\n"
      ],
      "execution_count": null,
      "outputs": []
    },
    {
      "cell_type": "markdown",
      "metadata": {
        "id": "qx8Ws5O_RYef",
        "colab_type": "text"
      },
      "source": [
        "**Evaluation on Test Data**"
      ]
    },
    {
      "cell_type": "code",
      "metadata": {
        "id": "vwgeEYCIHxVj",
        "colab_type": "code",
        "colab": {}
      },
      "source": [
        "score = model.evaluate(x_test_cnn, y_test_cnn, verbose=0)\n",
        "print(f'Test loss: {score[0]} / Test accuracy: {score[1]}')"
      ],
      "execution_count": null,
      "outputs": []
    },
    {
      "cell_type": "markdown",
      "metadata": {
        "id": "1nn9gzlpXsei",
        "colab_type": "text"
      },
      "source": [
        "As we can see, the CNN reached significantly higher accuracy than the MLP classifier, but overfitting occured during the training of our model. To avoid this, the use of some regularization techniques would be advised. So we will train our next model using dropout layer and maxpooling2D."
      ]
    },
    {
      "cell_type": "markdown",
      "metadata": {
        "id": "VVO414StKukO",
        "colab_type": "text"
      },
      "source": [
        "# **PART 3 CNN with dropout Layer**"
      ]
    },
    {
      "cell_type": "code",
      "metadata": {
        "id": "0Gn3k0lSKy4j",
        "colab_type": "code",
        "colab": {}
      },
      "source": [
        "model_2 = Sequential()\n",
        "model_2.add(Conv2D(64, kernel_size=(3, 3), padding = 'same',activation='relu', input_shape= (32,32,3)))\n",
        "model_2.add(MaxPooling2D(pool_size=(2, 2)))\n",
        "#model_2.add(Dropout(0.2))\n",
        "model_2.add(Conv2D(64, kernel_size=(3, 3),padding = 'same', activation='relu'))\n",
        "model_2.add(MaxPooling2D(pool_size=(2, 2)))\n",
        "#model_2.add(Dropout(0.2))\n",
        "model_2.add(Flatten())\n",
        "model_2.add(Dense(512))\n",
        "model_2.add(Activation('sigmoid'))\n",
        "model_2.add(Dropout(0.2))\n",
        "model_2.add(Dense(512))\n",
        "model_2.add(Activation('sigmoid'))\n",
        "model_2.add(Dropout(0.2))\n",
        "model_2.add(Dense(num_classes))\n",
        "model_2.add(Activation('softmax'))\n",
        "    "
      ],
      "execution_count": null,
      "outputs": []
    },
    {
      "cell_type": "code",
      "metadata": {
        "id": "Cbh0vW5UPPsF",
        "colab_type": "code",
        "colab": {}
      },
      "source": [
        "model_2.summary()"
      ],
      "execution_count": null,
      "outputs": []
    },
    {
      "cell_type": "code",
      "metadata": {
        "id": "EiNMR0iJXTW9",
        "colab_type": "code",
        "colab": {}
      },
      "source": [
        "#validation_split = 0.2"
      ],
      "execution_count": null,
      "outputs": []
    },
    {
      "cell_type": "code",
      "metadata": {
        "id": "GASp1-ImR255",
        "colab_type": "code",
        "colab": {}
      },
      "source": [
        "model_2.compile(optimizer=optimizers.Adam(lr=0.001),loss=\"categorical_crossentropy\",metrics=[\"accuracy\"])"
      ],
      "execution_count": null,
      "outputs": []
    },
    {
      "cell_type": "code",
      "metadata": {
        "id": "GYdEIVpNSThE",
        "colab_type": "code",
        "colab": {
          "base_uri": "https://localhost:8080/",
          "height": 247
        },
        "outputId": "d4cc1b55-7ee4-4d78-f74b-3c10d9a5ec77"
      },
      "source": [
        "import time\n",
        "start=time.time()\n",
        "cnn_2 = model_2.fit(x_train_cnn, y_train_cnn, batch_size=batch_size, epochs=5, validation_data=(x_val_cnn,y_val_cnn), shuffle = True)\n",
        "end=time.time()\n",
        "model_time=end-start\n",
        "print(\"Total training time is {:0.2f} minute\".format(model_time/60.0))"
      ],
      "execution_count": null,
      "outputs": [
        {
          "output_type": "error",
          "ename": "NameError",
          "evalue": "ignored",
          "traceback": [
            "\u001b[0;31m---------------------------------------------------------------------------\u001b[0m",
            "\u001b[0;31mNameError\u001b[0m                                 Traceback (most recent call last)",
            "\u001b[0;32m<ipython-input-31-82e8c6cd9661>\u001b[0m in \u001b[0;36m<module>\u001b[0;34m()\u001b[0m\n\u001b[1;32m      1\u001b[0m \u001b[0;32mimport\u001b[0m \u001b[0mtime\u001b[0m\u001b[0;34m\u001b[0m\u001b[0;34m\u001b[0m\u001b[0m\n\u001b[1;32m      2\u001b[0m \u001b[0mstart\u001b[0m\u001b[0;34m=\u001b[0m\u001b[0mtime\u001b[0m\u001b[0;34m.\u001b[0m\u001b[0mtime\u001b[0m\u001b[0;34m(\u001b[0m\u001b[0;34m)\u001b[0m\u001b[0;34m\u001b[0m\u001b[0;34m\u001b[0m\u001b[0m\n\u001b[0;32m----> 3\u001b[0;31m \u001b[0mcnn_2\u001b[0m \u001b[0;34m=\u001b[0m \u001b[0mmodel_2\u001b[0m\u001b[0;34m.\u001b[0m\u001b[0mfit\u001b[0m\u001b[0;34m(\u001b[0m\u001b[0mx_train_cnn\u001b[0m\u001b[0;34m,\u001b[0m \u001b[0my_train_cnn\u001b[0m\u001b[0;34m,\u001b[0m \u001b[0mbatch_size\u001b[0m\u001b[0;34m=\u001b[0m\u001b[0mbatch_size\u001b[0m\u001b[0;34m,\u001b[0m \u001b[0mepochs\u001b[0m\u001b[0;34m=\u001b[0m\u001b[0;36m5\u001b[0m\u001b[0;34m,\u001b[0m \u001b[0mvalidation_data\u001b[0m\u001b[0;34m=\u001b[0m\u001b[0;34m(\u001b[0m\u001b[0mx_val_cnn\u001b[0m\u001b[0;34m,\u001b[0m\u001b[0my_val_cnn\u001b[0m\u001b[0;34m)\u001b[0m\u001b[0;34m,\u001b[0m \u001b[0mshuffle\u001b[0m \u001b[0;34m=\u001b[0m \u001b[0;32mTrue\u001b[0m\u001b[0;34m)\u001b[0m\u001b[0;34m\u001b[0m\u001b[0;34m\u001b[0m\u001b[0m\n\u001b[0m\u001b[1;32m      4\u001b[0m \u001b[0mend\u001b[0m\u001b[0;34m=\u001b[0m\u001b[0mtime\u001b[0m\u001b[0;34m.\u001b[0m\u001b[0mtime\u001b[0m\u001b[0;34m(\u001b[0m\u001b[0;34m)\u001b[0m\u001b[0;34m\u001b[0m\u001b[0;34m\u001b[0m\u001b[0m\n\u001b[1;32m      5\u001b[0m \u001b[0mmodel_time\u001b[0m\u001b[0;34m=\u001b[0m\u001b[0mend\u001b[0m\u001b[0;34m-\u001b[0m\u001b[0mstart\u001b[0m\u001b[0;34m\u001b[0m\u001b[0;34m\u001b[0m\u001b[0m\n",
            "\u001b[0;31mNameError\u001b[0m: name 'model_2' is not defined"
          ]
        }
      ]
    },
    {
      "cell_type": "markdown",
      "metadata": {
        "id": "2YOzIIeSSFbA",
        "colab_type": "text"
      },
      "source": [
        "**Plot Loss Vs Epochs**"
      ]
    },
    {
      "cell_type": "code",
      "metadata": {
        "id": "pCQL9X4NSnUp",
        "colab_type": "code",
        "colab": {}
      },
      "source": [
        "plt.plot(cnn_2.history['loss'])\n",
        "plt.plot(cnn_2.history['val_loss'])\n",
        "plt.title('model loss')\n",
        "plt.ylabel('loss')\n",
        "plt.xlabel('epoch')\n",
        "plt.legend(['Train','Validation'],loc='upper left')\n",
        "plt.show()"
      ],
      "execution_count": null,
      "outputs": []
    },
    {
      "cell_type": "markdown",
      "metadata": {
        "id": "dsNvMaJISJ2k",
        "colab_type": "text"
      },
      "source": [
        "**Plot Accuracy Vs Epochs**"
      ]
    },
    {
      "cell_type": "code",
      "metadata": {
        "id": "4RX0r3hGTd4C",
        "colab_type": "code",
        "colab": {}
      },
      "source": [
        "plt.plot(cnn_2.history['accuracy'])\n",
        "plt.plot(cnn_2.history['val_accuracy'])\n",
        "plt.title('model accuracy')\n",
        "plt.ylabel('accuracy')\n",
        "plt.xlabel('epoch')\n",
        "plt.legend(['Train','Validation'],loc='upper left')\n",
        "plt.show()"
      ],
      "execution_count": null,
      "outputs": []
    },
    {
      "cell_type": "code",
      "metadata": {
        "id": "IZSMFi0TTkJD",
        "colab_type": "code",
        "colab": {}
      },
      "source": [
        "score = model_2.evaluate(x_test_cnn, y_test_cnn, verbose=0)\n",
        "print(f'Test loss: {score[0]} / Test accuracy: {score[1]}')"
      ],
      "execution_count": null,
      "outputs": []
    },
    {
      "cell_type": "code",
      "metadata": {
        "id": "R868D18XUx5M",
        "colab_type": "code",
        "colab": {}
      },
      "source": [
        ""
      ],
      "execution_count": null,
      "outputs": []
    },
    {
      "cell_type": "markdown",
      "metadata": {
        "id": "gFIz3VYbe9QN",
        "colab_type": "text"
      },
      "source": [
        "Classification Matrix"
      ]
    },
    {
      "cell_type": "code",
      "metadata": {
        "id": "MyuxzRA6e__u",
        "colab_type": "code",
        "colab": {}
      },
      "source": [
        ""
      ],
      "execution_count": null,
      "outputs": []
    }
  ]
}