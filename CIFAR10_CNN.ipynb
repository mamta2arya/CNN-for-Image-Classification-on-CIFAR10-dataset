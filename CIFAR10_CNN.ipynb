{
 "cells": [
  {
   "cell_type": "code",
   "execution_count": null,
   "metadata": {
    "colab": {},
    "colab_type": "code",
    "id": "GKHr-cItp6Dx"
   },
   "outputs": [],
   "source": []
  },
  {
   "cell_type": "code",
   "execution_count": 1,
   "metadata": {
    "colab": {
     "base_uri": "https://localhost:8080/",
     "height": 35
    },
    "colab_type": "code",
    "id": "KW9OwjcSvuEK",
    "outputId": "6afe596d-af9c-4485-e168-76b3e3fe8e98"
   },
   "outputs": [
    {
     "name": "stderr",
     "output_type": "stream",
     "text": [
      "Using TensorFlow backend.\n"
     ]
    }
   ],
   "source": [
    "import time\n",
    "import matplotlib.pyplot as plt\n",
    "import numpy as np\n",
    "from sklearn.model_selection import train_test_split\n",
    "from keras.models import Sequential\n",
    "from keras.layers import Dense\n",
    "from keras.layers import Dropout\n",
    "from keras.layers import Flatten\n",
    "from keras.layers import Activation\n",
    "from keras.layers.convolutional import Conv2D\n",
    "from keras.layers.convolutional import MaxPooling2D\n",
    "from keras.layers.normalization import BatchNormalization\n",
    "from keras.utils import np_utils\n",
    "from keras import backend as K\n",
    "import tensorflow as tf\n",
    "import multiprocessing as mp\n",
    "from keras import optimizers,regularizers \n",
    "from sklearn import metrics \n",
    "from keras.optimizers import Adam,SGD"
   ]
  },
  {
   "cell_type": "markdown",
   "metadata": {
    "colab_type": "text",
    "id": "oYINyr13GBaO"
   },
   "source": [
    "# **Loading the dataset**"
   ]
  },
  {
   "cell_type": "markdown",
   "metadata": {
    "colab_type": "text",
    "id": "Hq7T3ZgBGK6w"
   },
   "source": [
    "first we will download cifar10 dataset directly from keras. "
   ]
  },
  {
   "cell_type": "code",
   "execution_count": 2,
   "metadata": {
    "colab": {},
    "colab_type": "code",
    "id": "1O786lznp9o7"
   },
   "outputs": [],
   "source": [
    "from keras.datasets import cifar10"
   ]
  },
  {
   "cell_type": "code",
   "execution_count": 3,
   "metadata": {
    "colab": {
     "base_uri": "https://localhost:8080/",
     "height": 54
    },
    "colab_type": "code",
    "id": "ACabefULyFqq",
    "outputId": "70019ef1-0858-4f53-eaf5-7654696f9f9d"
   },
   "outputs": [],
   "source": [
    "(trainX, trainY), (testX, testY) = cifar10.load_data()"
   ]
  },
  {
   "cell_type": "markdown",
   "metadata": {
    "colab_type": "text",
    "id": "94pjNR6NGc1Y"
   },
   "source": [
    "**Examining the dataset**"
   ]
  },
  {
   "cell_type": "markdown",
   "metadata": {
    "colab_type": "text",
    "id": "gB1DicBDG5sD"
   },
   "source": [
    "first we check the shape of our dataset."
   ]
  },
  {
   "cell_type": "code",
   "execution_count": 4,
   "metadata": {
    "colab": {
     "base_uri": "https://localhost:8080/",
     "height": 35
    },
    "colab_type": "code",
    "id": "YTmZkW2EyS7m",
    "outputId": "92963db0-55fd-42ce-8d98-f3df1cae8c18"
   },
   "outputs": [
    {
     "data": {
      "text/plain": [
       "(50000, 32, 32, 3)"
      ]
     },
     "execution_count": 4,
     "metadata": {},
     "output_type": "execute_result"
    }
   ],
   "source": [
    "trainX.shape"
   ]
  },
  {
   "cell_type": "code",
   "execution_count": 5,
   "metadata": {
    "colab": {
     "base_uri": "https://localhost:8080/",
     "height": 35
    },
    "colab_type": "code",
    "id": "TnhKA7_frHZD",
    "outputId": "9f1ae6f3-2c4c-4789-f731-b74b4e8c1708"
   },
   "outputs": [
    {
     "data": {
      "text/plain": [
       "(50000, 1)"
      ]
     },
     "execution_count": 5,
     "metadata": {},
     "output_type": "execute_result"
    }
   ],
   "source": [
    "trainY.shape"
   ]
  },
  {
   "cell_type": "code",
   "execution_count": 6,
   "metadata": {
    "colab": {
     "base_uri": "https://localhost:8080/",
     "height": 35
    },
    "colab_type": "code",
    "id": "VpqGtkWy1tSP",
    "outputId": "ce6f5fe6-7c07-4fcf-c1eb-0c88734c549f"
   },
   "outputs": [
    {
     "data": {
      "text/plain": [
       "(10000, 32, 32, 3)"
      ]
     },
     "execution_count": 6,
     "metadata": {},
     "output_type": "execute_result"
    }
   ],
   "source": [
    "testX.shape"
   ]
  },
  {
   "cell_type": "markdown",
   "metadata": {
    "colab_type": "text",
    "id": "yf2O6HcqLdga"
   },
   "source": [
    "**We will use 20 % of train data as training data**"
   ]
  },
  {
   "cell_type": "markdown",
   "metadata": {
    "colab_type": "text",
    "id": "rzLM3a72MWe8"
   },
   "source": [
    "We have 50000 training and 10000 test data. this is image data set with a structure of (32,32,3) which correspond to (width, height, RGB).\n",
    "For each image there is a corresponding label, which is a class index. \n",
    "We will use 20 % train data out of 50000 that is 10000. \n"
   ]
  },
  {
   "cell_type": "code",
   "execution_count": 7,
   "metadata": {},
   "outputs": [
    {
     "data": {
      "text/plain": [
       "(10000, 32, 32, 3)"
      ]
     },
     "execution_count": 7,
     "metadata": {},
     "output_type": "execute_result"
    }
   ],
   "source": [
    "number_of_rows = int(trainX.shape[0] * 0.2)\n",
    "x_train = trainX[:number_of_rows]\n",
    "x_train.shape"
   ]
  },
  {
   "cell_type": "code",
   "execution_count": 8,
   "metadata": {},
   "outputs": [
    {
     "data": {
      "text/plain": [
       "(10000, 1)"
      ]
     },
     "execution_count": 8,
     "metadata": {},
     "output_type": "execute_result"
    }
   ],
   "source": [
    "y_train = trainY[:number_of_rows]\n",
    "y_train.shape"
   ]
  },
  {
   "cell_type": "markdown",
   "metadata": {},
   "source": [
    "#### Test validation split 50-50 %"
   ]
  },
  {
   "cell_type": "code",
   "execution_count": 9,
   "metadata": {},
   "outputs": [
    {
     "name": "stdout",
     "output_type": "stream",
     "text": [
      "(5000, 32, 32, 3) (5000, 32, 32, 3) (5000, 1) (5000, 1)\n"
     ]
    }
   ],
   "source": [
    "x_test, x_val, y_test, y_val = train_test_split(testX, testY, test_size = 0.5, shuffle= True)\n",
    "print(x_test.shape, x_val.shape, y_test.shape, y_val.shape)"
   ]
  },
  {
   "cell_type": "markdown",
   "metadata": {},
   "source": [
    "#### Normalization"
   ]
  },
  {
   "cell_type": "markdown",
   "metadata": {},
   "source": [
    "Using to_categorical we convert the target vectors into binary class vectors. Since it is a image dataset so the dimensions will be between 0 to 1. MLP takes on 2 D (3072) dimensional vector as the input.\n",
    "\n",
    "First we are going to use a Multilayer Perceptron to classify our images dataset."
   ]
  },
  {
   "cell_type": "code",
   "execution_count": 10,
   "metadata": {},
   "outputs": [],
   "source": [
    "x_train_norm = x_train.astype('float32')\n",
    "x_test_norm = x_test.astype('float32')\n",
    "x_val_norm =x_val.astype('float32')\n",
    "\n",
    "# Normalise data\n",
    "x_train_norm /= 255.0\n",
    "x_test_norm /= 255.0\n",
    "x_val_norm/=255.0"
   ]
  },
  {
   "cell_type": "markdown",
   "metadata": {},
   "source": [
    "### MLP Classifier"
   ]
  },
  {
   "cell_type": "code",
   "execution_count": 11,
   "metadata": {},
   "outputs": [],
   "source": [
    "from keras.utils import to_categorical"
   ]
  },
  {
   "cell_type": "code",
   "execution_count": 12,
   "metadata": {},
   "outputs": [],
   "source": [
    "x_train_mlp =np.reshape(x_train_norm, (10000, 3072))\n",
    "y_train_mlp = to_categorical(y_train, num_classes = 10) "
   ]
  },
  {
   "cell_type": "code",
   "execution_count": 13,
   "metadata": {},
   "outputs": [],
   "source": [
    "x_val_mlp = np.reshape(x_val_norm, (5000, 3072))\n",
    "y_val_mlp = to_categorical(y_val, num_classes = 10)"
   ]
  },
  {
   "cell_type": "code",
   "execution_count": 14,
   "metadata": {},
   "outputs": [],
   "source": [
    "x_test_mlp = np.reshape(x_test_norm, (5000, 3072))\n",
    "y_test_mlp = to_categorical(y_test, num_classes = 10)"
   ]
  },
  {
   "cell_type": "code",
   "execution_count": 15,
   "metadata": {},
   "outputs": [
    {
     "name": "stdout",
     "output_type": "stream",
     "text": [
      "WARNING:tensorflow:From C:\\Users\\mamta\\Anaconda3\\lib\\site-packages\\tensorflow\\python\\ops\\resource_variable_ops.py:435: colocate_with (from tensorflow.python.framework.ops) is deprecated and will be removed in a future version.\n",
      "Instructions for updating:\n",
      "Colocations handled automatically by placer.\n",
      "Model: \"sequential_1\"\n",
      "_________________________________________________________________\n",
      "Layer (type)                 Output Shape              Param #   \n",
      "=================================================================\n",
      "dense_1 (Dense)              (None, 512)               1573376   \n",
      "_________________________________________________________________\n",
      "dense_2 (Dense)              (None, 512)               262656    \n",
      "_________________________________________________________________\n",
      "dense_3 (Dense)              (None, 10)                5130      \n",
      "=================================================================\n",
      "Total params: 1,841,162\n",
      "Trainable params: 1,841,162\n",
      "Non-trainable params: 0\n",
      "_________________________________________________________________\n",
      "None\n"
     ]
    }
   ],
   "source": [
    "# Build the MLP model.\n",
    "model = Sequential()\n",
    "model.add(Dense(512, activation='sigmoid', input_dim = 3072))\n",
    "model.add(Dense(512, activation='sigmoid'))\n",
    "model.add(Dense(10, activation='softmax'))\n",
    "\n",
    "print(model.summary())"
   ]
  },
  {
   "cell_type": "code",
   "execution_count": 16,
   "metadata": {},
   "outputs": [],
   "source": [
    "model.compile(optimizer=optimizers.Adam(lr=0.001),loss=\"categorical_crossentropy\",metrics=[\"accuracy\"])"
   ]
  },
  {
   "cell_type": "code",
   "execution_count": 17,
   "metadata": {
    "colab": {
     "base_uri": "https://localhost:8080/",
     "height": 239
    },
    "colab_type": "code",
    "id": "HgCWvPJaPClL",
    "outputId": "8f0bfe67-eea8-4b2c-bbe1-013faad91495"
   },
   "outputs": [
    {
     "name": "stdout",
     "output_type": "stream",
     "text": [
      "WARNING:tensorflow:From C:\\Users\\mamta\\Anaconda3\\lib\\site-packages\\tensorflow\\python\\ops\\math_ops.py:3066: to_int32 (from tensorflow.python.ops.math_ops) is deprecated and will be removed in a future version.\n",
      "Instructions for updating:\n",
      "Use tf.cast instead.\n",
      "Train on 10000 samples, validate on 5000 samples\n",
      "Epoch 1/5\n",
      "10000/10000 [==============================] - 16s 2ms/step - loss: 2.0433 - accuracy: 0.2415 - val_loss: 1.9022 - val_accuracy: 0.3002\n",
      "Epoch 2/5\n",
      "10000/10000 [==============================] - 16s 2ms/step - loss: 1.8847 - accuracy: 0.3112 - val_loss: 1.8716 - val_accuracy: 0.3098\n",
      "Epoch 3/5\n",
      "10000/10000 [==============================] - 16s 2ms/step - loss: 1.8195 - accuracy: 0.3398 - val_loss: 1.8548 - val_accuracy: 0.3426\n",
      "Epoch 4/5\n",
      "10000/10000 [==============================] - 16s 2ms/step - loss: 1.7681 - accuracy: 0.3635 - val_loss: 1.8028 - val_accuracy: 0.3346\n",
      "Epoch 5/5\n",
      "10000/10000 [==============================] - 15s 2ms/step - loss: 1.7284 - accuracy: 0.3700 - val_loss: 1.8216 - val_accuracy: 0.3268\n",
      "Total training time is 1.32 minute\n"
     ]
    }
   ],
   "source": [
    "import time\n",
    "start=time.time()\n",
    "history = model.fit(x_train_mlp, y_train_mlp, batch_size=32, epochs=5, validation_data=(x_val_mlp,y_val_mlp), shuffle =True)\n",
    "end=time.time()\n",
    "model_time=end-start\n",
    "print(\"Total training time is {:0.2f} minute\".format(model_time/60.0))"
   ]
  },
  {
   "cell_type": "code",
   "execution_count": 18,
   "metadata": {},
   "outputs": [
    {
     "name": "stdout",
     "output_type": "stream",
     "text": [
      "Test loss: 1.8050615550994873 / Test accuracy: 0.34360000491142273\n"
     ]
    }
   ],
   "source": [
    "score = model.evaluate(x_test_mlp, y_test_mlp, batch_size=32, verbose=0)\n",
    "print(f'Test loss: {score[0]} / Test accuracy: {score[1]}')\n"
   ]
  },
  {
   "cell_type": "markdown",
   "metadata": {
    "colab_type": "text",
    "id": "K7Elw6e3Q1mv"
   },
   "source": [
    "**Plot Loss Vs Epochs**"
   ]
  },
  {
   "cell_type": "code",
   "execution_count": 19,
   "metadata": {
    "colab": {},
    "colab_type": "code",
    "id": "gTzc1z7lQkTS"
   },
   "outputs": [
    {
     "data": {
      "image/png": "[encoded data removed]",
      "text/plain": [
       "<Figure size 432x288 with 1 Axes>"
      ]
     },
     "metadata": {
      "needs_background": "light"
     },
     "output_type": "display_data"
    }
   ],
   "source": [
    "plt.plot(history.history['loss'])\n",
    "plt.plot(history.history['val_loss'])\n",
    "plt.title('model loss')\n",
    "plt.ylabel('loss')\n",
    "plt.xlabel('epoch')\n",
    "plt.legend(['Train','Validation'],loc='upper left')\n",
    "plt.show()"
   ]
  },
  {
   "cell_type": "markdown",
   "metadata": {},
   "source": [
    "Figure shows validation loss is increasing after 2nd epoch whereas training loss is decreasing. "
   ]
  },
  {
   "cell_type": "markdown",
   "metadata": {
    "colab_type": "text",
    "id": "EgkedH5bQ-Ge"
   },
   "source": [
    "**Plot Accuracy Vs Epochs**"
   ]
  },
  {
   "cell_type": "code",
   "execution_count": 20,
   "metadata": {
    "colab": {},
    "colab_type": "code",
    "id": "M03Skp2YQkf2"
   },
   "outputs": [
    {
     "data": {
      "image/png": "[encoded data removed]",
      "text/plain": [
       "<Figure size 432x288 with 1 Axes>"
      ]
     },
     "metadata": {
      "needs_background": "light"
     },
     "output_type": "display_data"
    }
   ],
   "source": [
    "plt.plot(history.history['accuracy'])\n",
    "plt.plot(history.history['val_accuracy'])\n",
    "plt.title('model accuracy')\n",
    "plt.ylabel('accuracy')\n",
    "plt.xlabel('epoch')\n",
    "plt.legend(['Train','Validation'],loc='upper left')\n",
    "plt.show()"
   ]
  },
  {
   "cell_type": "markdown",
   "metadata": {
    "colab": {},
    "colab_type": "code",
    "id": "UFeY4bOrRBYI"
   },
   "source": [
    "Training accuracy is increasing with epochs, however validation accuracy is fluctuating. if we train our model with large number of epochs it gives good results."
   ]
  },
  {
   "cell_type": "markdown",
   "metadata": {
    "colab_type": "text",
    "id": "wDs9zcvlMzJ7"
   },
   "source": [
    "### **CNN_part 1**"
   ]
  },
  {
   "cell_type": "markdown",
   "metadata": {
    "colab_type": "text",
    "id": "F5KS5unLC3Lj"
   },
   "source": [
    "**Preparing the dataset**"
   ]
  },
  {
   "cell_type": "code",
   "execution_count": 21,
   "metadata": {
    "colab": {},
    "colab_type": "code",
    "id": "S_sbHaWX9UUT"
   },
   "outputs": [
    {
     "name": "stdout",
     "output_type": "stream",
     "text": [
      "(5000, 32, 32, 3) (5000, 32, 32, 3) (5000, 1) (5000, 1)\n"
     ]
    }
   ],
   "source": [
    "x_test, x_val, y_test, y_val = train_test_split(testX, testY, test_size = 0.5, random_state = 42)\n",
    "print(x_test.shape, x_val.shape, y_test.shape, y_val.shape)"
   ]
  },
  {
   "cell_type": "code",
   "execution_count": 22,
   "metadata": {
    "colab": {},
    "colab_type": "code",
    "id": "84VSiSmDAYUK"
   },
   "outputs": [],
   "source": [
    "y_train_cnn = to_categorical(y_train, num_classes=10)\n",
    "y_test_cnn = to_categorical(y_test, num_classes=10)\n",
    "y_val_cnn = to_categorical(y_val, num_classes=10)\n",
    "x_train_cnn = x_train.astype('float32')\n",
    "x_test_cnn = x_test.astype('float32')\n",
    "x_val_cnn = x_val.astype('float32')\n",
    "x_train_cnn /= 255\n",
    "x_test_cnn /= 255"
   ]
  },
  {
   "cell_type": "code",
   "execution_count": 23,
   "metadata": {
    "colab": {},
    "colab_type": "code",
    "id": "cNh8CPF9Bxt_"
   },
   "outputs": [
    {
     "name": "stdout",
     "output_type": "stream",
     "text": [
      "Shape of training data:\n",
      "(10000, 32, 32, 3)\n",
      "(10000, 10)\n",
      "Shape of validation data:\n",
      "(5000, 32, 32, 3)\n",
      "(5000, 10)\n",
      "Shape of test data:\n",
      "(5000, 32, 32, 3)\n",
      "(5000, 10)\n"
     ]
    }
   ],
   "source": [
    "print(\"Shape of training data:\")\n",
    "print(x_train_cnn.shape)\n",
    "print(y_train_cnn.shape)\n",
    "print(\"Shape of validation data:\")\n",
    "print(x_val_cnn.shape)\n",
    "print(y_val_cnn.shape)\n",
    "print(\"Shape of test data:\")\n",
    "print(x_test_cnn.shape)\n",
    "print(y_test_cnn.shape)"
   ]
  },
  {
   "cell_type": "markdown",
   "metadata": {
    "colab_type": "text",
    "id": "Rkzy0JQCDQmI"
   },
   "source": [
    "**Creating the CNN Model**"
   ]
  },
  {
   "cell_type": "markdown",
   "metadata": {
    "colab_type": "text",
    "id": "mH7NKqInDZlq"
   },
   "source": [
    "We will use two convolutional layers, each with 64 filters a kernel size of (3,3) and ReLU activation function. We will use padding same and 2 fully connected dense layer with 512 units and sigmoid activation function. At last we will use output layer i.e no of classes =10 and softmax activiaction function, since we are solving classification problem."
   ]
  },
  {
   "cell_type": "code",
   "execution_count": 24,
   "metadata": {
    "colab": {},
    "colab_type": "code",
    "id": "JVrkGg5_66iN"
   },
   "outputs": [],
   "source": [
    "model = Sequential()\n",
    "model.add(Conv2D(64, (3, 3), activation='relu',padding = 'same',input_shape=(32, 32, 3)))\n",
    "model.add(Conv2D(64,(3, 3),activation='relu', padding = 'same'))\n",
    "model.add(Flatten())\n",
    "model.add(Dense(units = 512, activation = 'sigmoid'))\n",
    "model.add(Dense(units = 512, activation = 'sigmoid'))\n",
    "model.add(Dense(units = 10, activation = 'softmax'))"
   ]
  },
  {
   "cell_type": "markdown",
   "metadata": {
    "colab_type": "text",
    "id": "l2q7vxkzEN4v"
   },
   "source": [
    "Model.summary gives the model summary"
   ]
  },
  {
   "cell_type": "code",
   "execution_count": 25,
   "metadata": {
    "colab": {},
    "colab_type": "code",
    "id": "4qPKniMpCiVx"
   },
   "outputs": [
    {
     "name": "stdout",
     "output_type": "stream",
     "text": [
      "Model: \"sequential_2\"\n",
      "_________________________________________________________________\n",
      "Layer (type)                 Output Shape              Param #   \n",
      "=================================================================\n",
      "conv2d_1 (Conv2D)            (None, 32, 32, 64)        1792      \n",
      "_________________________________________________________________\n",
      "conv2d_2 (Conv2D)            (None, 32, 32, 64)        36928     \n",
      "_________________________________________________________________\n",
      "flatten_1 (Flatten)          (None, 65536)             0         \n",
      "_________________________________________________________________\n",
      "dense_4 (Dense)              (None, 512)               33554944  \n",
      "_________________________________________________________________\n",
      "dense_5 (Dense)              (None, 512)               262656    \n",
      "_________________________________________________________________\n",
      "dense_6 (Dense)              (None, 10)                5130      \n",
      "=================================================================\n",
      "Total params: 33,861,450\n",
      "Trainable params: 33,861,450\n",
      "Non-trainable params: 0\n",
      "_________________________________________________________________\n"
     ]
    }
   ],
   "source": [
    "model.summary()"
   ]
  },
  {
   "cell_type": "markdown",
   "metadata": {
    "colab_type": "text",
    "id": "GUCj7n8wEsys"
   },
   "source": [
    "Model.Compile the model, where  we will use adam optimizer with 0.001 learning rate. Here we define categorical_crossentropy loss function (used for single label categorization) and accuracy as an evaluation matrics."
   ]
  },
  {
   "cell_type": "code",
   "execution_count": 26,
   "metadata": {
    "colab": {},
    "colab_type": "code",
    "id": "RAIuXxVqDRgC"
   },
   "outputs": [],
   "source": [
    "model.compile(optimizer=optimizers.Adam(lr=0.001),loss=\"categorical_crossentropy\",metrics=[\"accuracy\"])"
   ]
  },
  {
   "cell_type": "markdown",
   "metadata": {
    "colab_type": "text",
    "id": "OEFM22GLFRlL"
   },
   "source": [
    "**Trainning the CNN_1 Model**"
   ]
  },
  {
   "cell_type": "code",
   "execution_count": 27,
   "metadata": {
    "colab": {},
    "colab_type": "code",
    "id": "J8Z7oTnqD4yB"
   },
   "outputs": [
    {
     "name": "stdout",
     "output_type": "stream",
     "text": [
      "Train on 10000 samples, validate on 5000 samples\n",
      "Epoch 1/5\n",
      "10000/10000 [==============================] - 325s 32ms/step - loss: 1.7738 - accuracy: 0.3482 - val_loss: 1.7168 - val_accuracy: 0.4042\n",
      "Epoch 2/5\n",
      "10000/10000 [==============================] - 332s 33ms/step - loss: 1.2883 - accuracy: 0.5331 - val_loss: 1.6994 - val_accuracy: 0.4168\n",
      "Epoch 3/5\n",
      "10000/10000 [==============================] - 328s 33ms/step - loss: 0.9254 - accuracy: 0.6709 - val_loss: 1.6449 - val_accuracy: 0.4330\n",
      "Epoch 4/5\n",
      "10000/10000 [==============================] - 328s 33ms/step - loss: 0.5376 - accuracy: 0.8212 - val_loss: 1.8011 - val_accuracy: 0.4548\n",
      "Epoch 5/5\n",
      "10000/10000 [==============================] - 329s 33ms/step - loss: 0.2063 - accuracy: 0.9441 - val_loss: 2.0355 - val_accuracy: 0.4566\n",
      "Total training time is 27.40 minute\n"
     ]
    }
   ],
   "source": [
    "import time\n",
    "start=time.time()\n",
    "cnn_1 = model.fit(x_train_cnn, y_train_cnn, batch_size=32, epochs=5, validation_data=(x_val_cnn,y_val_cnn), shuffle = True)\n",
    "end=time.time()\n",
    "model_time=end-start\n",
    "print(\"Total training time is {:0.2f} minute\".format(model_time/60.0))"
   ]
  },
  {
   "cell_type": "markdown",
   "metadata": {
    "colab_type": "text",
    "id": "yOZRwFVLQaYF"
   },
   "source": [
    "**Plot Loss Vs Epochs**"
   ]
  },
  {
   "cell_type": "code",
   "execution_count": 28,
   "metadata": {
    "colab": {},
    "colab_type": "code",
    "id": "9rVluqbGD9bI"
   },
   "outputs": [
    {
     "data": {
      "image/png": "[encoded data removed]",
      "text/plain": [
       "<Figure size 432x288 with 1 Axes>"
      ]
     },
     "metadata": {
      "needs_background": "light"
     },
     "output_type": "display_data"
    }
   ],
   "source": [
    "plt.plot(cnn_1.history['loss'])\n",
    "plt.plot(cnn_1.history['val_loss'])\n",
    "plt.title('model loss')\n",
    "plt.ylabel('loss')\n",
    "plt.xlabel('epoch')\n",
    "plt.legend(['Train','Validation'],loc='upper left')\n",
    "plt.show()\n"
   ]
  },
  {
   "cell_type": "markdown",
   "metadata": {},
   "source": [
    "figure shows higher validation loss compare to training loss."
   ]
  },
  {
   "cell_type": "markdown",
   "metadata": {
    "colab_type": "text",
    "id": "Ph_zBwozRSX1"
   },
   "source": [
    "**Plot Accuracy Vs Epochs**"
   ]
  },
  {
   "cell_type": "code",
   "execution_count": 29,
   "metadata": {
    "colab": {},
    "colab_type": "code",
    "id": "8u2HzUT6E5MP"
   },
   "outputs": [
    {
     "data": {
      "image/png": "[encoded data removed]",
      "text/plain": [
       "<Figure size 432x288 with 1 Axes>"
      ]
     },
     "metadata": {
      "needs_background": "light"
     },
     "output_type": "display_data"
    }
   ],
   "source": [
    "plt.plot(cnn_1.history['accuracy'])\n",
    "plt.plot(cnn_1.history['val_accuracy'])\n",
    "plt.title('model accuracy')\n",
    "plt.ylabel('accuracy')\n",
    "plt.xlabel('epoch')\n",
    "plt.legend(['Train','Validation'],loc='upper left')\n",
    "plt.show()\n"
   ]
  },
  {
   "cell_type": "markdown",
   "metadata": {},
   "source": [
    "Training accuracy is almost 90 % here and  validation accuracy is 47 %. This plot shows greater overfitting presents in the modelperformance. "
   ]
  },
  {
   "cell_type": "markdown",
   "metadata": {
    "colab_type": "text",
    "id": "qx8Ws5O_RYef"
   },
   "source": [
    "**Evaluation on Test Data**"
   ]
  },
  {
   "cell_type": "code",
   "execution_count": 30,
   "metadata": {
    "colab": {},
    "colab_type": "code",
    "id": "vwgeEYCIHxVj"
   },
   "outputs": [
    {
     "name": "stdout",
     "output_type": "stream",
     "text": [
      "Test loss: 1.6355941301345824 / Test accuracy: 0.5437999963760376\n"
     ]
    }
   ],
   "source": [
    "score = model.evaluate(x_test_cnn, y_test_cnn, verbose=0)\n",
    "print(f'Test loss: {score[0]} / Test accuracy: {score[1]}')"
   ]
  },
  {
   "cell_type": "markdown",
   "metadata": {
    "colab_type": "text",
    "id": "1nn9gzlpXsei"
   },
   "source": [
    "As we can see, the CNN reached significantly higher accuracy than the MLP classifier, but overfitting occured during the training of our model. To avoid this, the use of some regularization techniques would be advised. So we will train our next model using dropout layer and maxpooling2D.\n",
    "To avoid overfitting we add 'Dropout' layer. Dropout is implemented per-layer in a neural network and randomly dropping out nodes during training. It offers a very computationally cheap and remarkably effective regularization method to reduce overfitting and improve generalization error in deep neural networks.Dropout can be implemented on any or all hidden layers in the network as well as the input layer. It is not used on the output layer. We have kept the dropout rate 0.2 in this model. "
   ]
  },
  {
   "cell_type": "markdown",
   "metadata": {
    "colab_type": "text",
    "id": "VVO414StKukO"
   },
   "source": [
    "# **PART 3 CNN with dropout Layer**"
   ]
  },
  {
   "cell_type": "code",
   "execution_count": 31,
   "metadata": {
    "colab": {},
    "colab_type": "code",
    "id": "0Gn3k0lSKy4j"
   },
   "outputs": [],
   "source": [
    "model_2 = Sequential()\n",
    "model_2.add(Conv2D(64, kernel_size=(3, 3), padding = 'same',activation='relu', input_shape= (32,32,3)))\n",
    "model_2.add(MaxPooling2D(pool_size=(2, 2)))\n",
    "model_2.add(Conv2D(64, kernel_size=(3, 3),padding = 'same', activation='relu'))\n",
    "model_2.add(MaxPooling2D(pool_size=(2, 2)))\n",
    "model_2.add(Flatten())\n",
    "model_2.add(Dense(512))\n",
    "model_2.add(Activation('sigmoid'))\n",
    "model_2.add(Dropout(0.2))\n",
    "model_2.add(Dense(512))\n",
    "model_2.add(Activation('sigmoid'))\n",
    "model_2.add(Dropout(0.2))\n",
    "model_2.add(Dense(10))\n",
    "model_2.add(Activation('softmax'))\n",
    "    "
   ]
  },
  {
   "cell_type": "code",
   "execution_count": 32,
   "metadata": {
    "colab": {},
    "colab_type": "code",
    "id": "Cbh0vW5UPPsF"
   },
   "outputs": [
    {
     "name": "stdout",
     "output_type": "stream",
     "text": [
      "Model: \"sequential_3\"\n",
      "_________________________________________________________________\n",
      "Layer (type)                 Output Shape              Param #   \n",
      "=================================================================\n",
      "conv2d_3 (Conv2D)            (None, 32, 32, 64)        1792      \n",
      "_________________________________________________________________\n",
      "max_pooling2d_1 (MaxPooling2 (None, 16, 16, 64)        0         \n",
      "_________________________________________________________________\n",
      "conv2d_4 (Conv2D)            (None, 16, 16, 64)        36928     \n",
      "_________________________________________________________________\n",
      "max_pooling2d_2 (MaxPooling2 (None, 8, 8, 64)          0         \n",
      "_________________________________________________________________\n",
      "flatten_2 (Flatten)          (None, 4096)              0         \n",
      "_________________________________________________________________\n",
      "dense_7 (Dense)              (None, 512)               2097664   \n",
      "_________________________________________________________________\n",
      "activation_1 (Activation)    (None, 512)               0         \n",
      "_________________________________________________________________\n",
      "dropout_1 (Dropout)          (None, 512)               0         \n",
      "_________________________________________________________________\n",
      "dense_8 (Dense)              (None, 512)               262656    \n",
      "_________________________________________________________________\n",
      "activation_2 (Activation)    (None, 512)               0         \n",
      "_________________________________________________________________\n",
      "dropout_2 (Dropout)          (None, 512)               0         \n",
      "_________________________________________________________________\n",
      "dense_9 (Dense)              (None, 10)                5130      \n",
      "_________________________________________________________________\n",
      "activation_3 (Activation)    (None, 10)                0         \n",
      "=================================================================\n",
      "Total params: 2,404,170\n",
      "Trainable params: 2,404,170\n",
      "Non-trainable params: 0\n",
      "_________________________________________________________________\n"
     ]
    }
   ],
   "source": [
    "model_2.summary()"
   ]
  },
  {
   "cell_type": "code",
   "execution_count": 33,
   "metadata": {
    "colab": {},
    "colab_type": "code",
    "id": "GASp1-ImR255"
   },
   "outputs": [],
   "source": [
    "model_2.compile(optimizer=optimizers.Adam(lr=0.001),loss=\"categorical_crossentropy\",metrics=[\"accuracy\"])"
   ]
  },
  {
   "cell_type": "code",
   "execution_count": 34,
   "metadata": {
    "colab": {
     "base_uri": "https://localhost:8080/",
     "height": 247
    },
    "colab_type": "code",
    "id": "GYdEIVpNSThE",
    "outputId": "d4cc1b55-7ee4-4d78-f74b-3c10d9a5ec77"
   },
   "outputs": [
    {
     "name": "stdout",
     "output_type": "stream",
     "text": [
      "Train on 10000 samples, validate on 5000 samples\n",
      "Epoch 1/5\n",
      "10000/10000 [==============================] - 56s 6ms/step - loss: 1.9727 - accuracy: 0.2659 - val_loss: 1.6749 - val_accuracy: 0.3808\n",
      "Epoch 2/5\n",
      "10000/10000 [==============================] - 55s 6ms/step - loss: 1.5032 - accuracy: 0.4424 - val_loss: 1.7446 - val_accuracy: 0.4144\n",
      "Epoch 3/5\n",
      "10000/10000 [==============================] - 55s 6ms/step - loss: 1.3135 - accuracy: 0.5207 - val_loss: 1.6390 - val_accuracy: 0.4538\n",
      "Epoch 4/5\n",
      "10000/10000 [==============================] - 55s 5ms/step - loss: 1.1660 - accuracy: 0.5788 - val_loss: 1.6077 - val_accuracy: 0.4724\n",
      "Epoch 5/5\n",
      "10000/10000 [==============================] - 55s 5ms/step - loss: 1.0243 - accuracy: 0.6264 - val_loss: 1.4291 - val_accuracy: 0.5184\n",
      "Total training time is 4.62 minute\n"
     ]
    }
   ],
   "source": [
    "import time\n",
    "start=time.time()\n",
    "cnn_2 = model_2.fit(x_train_cnn, y_train_cnn, batch_size=32, epochs=5, validation_data=(x_val_cnn,y_val_cnn), shuffle = True)\n",
    "end=time.time()\n",
    "model_time=end-start\n",
    "print(\"Total training time is {:0.2f} minute\".format(model_time/60.0))"
   ]
  },
  {
   "cell_type": "markdown",
   "metadata": {
    "colab_type": "text",
    "id": "2YOzIIeSSFbA"
   },
   "source": [
    "**Plot Loss Vs Epochs**"
   ]
  },
  {
   "cell_type": "code",
   "execution_count": 35,
   "metadata": {
    "colab": {},
    "colab_type": "code",
    "id": "pCQL9X4NSnUp"
   },
   "outputs": [
    {
     "data": {
      "image/png": "[encoded data removed]",
      "text/plain": [
       "<Figure size 432x288 with 1 Axes>"
      ]
     },
     "metadata": {
      "needs_background": "light"
     },
     "output_type": "display_data"
    }
   ],
   "source": [
    "plt.plot(cnn_2.history['loss'])\n",
    "plt.plot(cnn_2.history['val_loss'])\n",
    "plt.title('model loss')\n",
    "plt.ylabel('loss')\n",
    "plt.xlabel('epoch')\n",
    "plt.legend(['Train','Validation'],loc='upper left')\n",
    "plt.show()"
   ]
  },
  {
   "cell_type": "markdown",
   "metadata": {
    "colab_type": "text",
    "id": "dsNvMaJISJ2k"
   },
   "source": [
    "**Plot Accuracy Vs Epochs**"
   ]
  },
  {
   "cell_type": "code",
   "execution_count": 36,
   "metadata": {
    "colab": {},
    "colab_type": "code",
    "id": "4RX0r3hGTd4C"
   },
   "outputs": [
    {
     "data": {
      "image/png": "[encoded data removed]",
      "text/plain": [
       "<Figure size 432x288 with 1 Axes>"
      ]
     },
     "metadata": {
      "needs_background": "light"
     },
     "output_type": "display_data"
    }
   ],
   "source": [
    "plt.plot(cnn_2.history['accuracy'])\n",
    "plt.plot(cnn_2.history['val_accuracy'])\n",
    "plt.title('model accuracy')\n",
    "plt.ylabel('accuracy')\n",
    "plt.xlabel('epoch')\n",
    "plt.legend(['Train','Validation'],loc='upper left')\n",
    "plt.show()"
   ]
  },
  {
   "cell_type": "markdown",
   "metadata": {},
   "source": []
  },
  {
   "cell_type": "code",
   "execution_count": 37,
   "metadata": {
    "colab": {},
    "colab_type": "code",
    "id": "IZSMFi0TTkJD"
   },
   "outputs": [
    {
     "name": "stdout",
     "output_type": "stream",
     "text": [
      "Test loss: 1.176615303325653 / Test accuracy: 0.5878000259399414\n"
     ]
    }
   ],
   "source": [
    "score = model_2.evaluate(x_test_cnn, y_test_cnn, verbose=0)\n",
    "print(f'Test loss: {score[0]} / Test accuracy: {score[1]}')"
   ]
  },
  {
   "cell_type": "code",
   "execution_count": null,
   "metadata": {},
   "outputs": [],
   "source": []
  }
 ],
 "metadata": {
  "colab": {
   "name": "A3-Q1.ipynb",
   "provenance": []
  },
  "kernelspec": {
   "display_name": "Python 3",
   "language": "python",
   "name": "python3"
  },
  "language_info": {
   "codemirror_mode": {
    "name": "ipython",
    "version": 3
   },
   "file_extension": ".py",
   "mimetype": "text/x-python",
   "name": "python",
   "nbconvert_exporter": "python",
   "pygments_lexer": "ipython3",
   "version": "3.7.4"
  }
 },
 "nbformat": 4,
 "nbformat_minor": 1
}
